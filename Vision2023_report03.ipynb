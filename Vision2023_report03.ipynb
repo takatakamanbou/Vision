{
  "cells": [
    {
      "cell_type": "markdown",
      "metadata": {
        "id": "view-in-github",
        "colab_type": "text"
      },
      "source": [
        "<a href=\"https://colab.research.google.com/github/takatakamanbou/Vision/blob/main/Vision2023_report03.ipynb\" target=\"_parent\"><img src=\"https://colab.research.google.com/assets/colab-badge.svg\" alt=\"Open In Colab\"/></a>"
      ]
    },
    {
      "cell_type": "markdown",
      "metadata": {
        "id": "2UzDNLmVS3po"
      },
      "source": [
        "# Vision2023-report03\n",
        "\n",
        "\n",
        "\n"
      ]
    },
    {
      "cell_type": "markdown",
      "metadata": {
        "id": "SrIIY0RtpBYO"
      },
      "source": [
        "課題の期限や提出の方法などについては，別途お知らせしています\n",
        "\n"
      ]
    },
    {
      "cell_type": "code",
      "source": [
        "# 準備あれこれ\n",
        "import numpy as np\n",
        "import matplotlib.pyplot as plt\n",
        "import pandas as pd\n",
        "import seaborn\n",
        "seaborn.set()\n",
        "\n",
        "from scipy.stats import norm\n",
        "from scipy.stats import multivariate_normal\n",
        "\n",
        "from sklearn.mixture import GaussianMixture\n",
        "from sklearn.datasets import fetch_openml\n",
        "from sklearn.datasets import make_moons"
      ],
      "metadata": {
        "id": "Uba-rqwa906l"
      },
      "execution_count": null,
      "outputs": []
    },
    {
      "cell_type": "markdown",
      "source": [
        "---\n",
        "## 問題1\n",
        "---\n",
        "\n",
        "以下では，2次元3クラスのデータを対象としてある実験を行っている．\n",
        "コードセルを順に実行し，問に答えなさい．\n",
        "解答欄に文章を記入することを求めている箇所がある．その場合，次のセルの内容を参考にしたらよい．\n"
      ],
      "metadata": {
        "id": "9kq8MMK34dyI"
      }
    },
    {
      "cell_type": "markdown",
      "source": [
        "※ Colab の Markdown セルには，LaTeX と呼ばれる組版ソフトウェアの表記法で数式を書くことができます（ *LaTeX* をキーワードにしてウェブで検索したらいっぱい情報あります）．このセルをダブルクリックしてソースを表示させるとわかります．\n",
        "\n",
        "$p(\\mathbf{x})$\n",
        "\n",
        "$p(y)$\n",
        "\n",
        "$p(\\mathbf{x}|y)$\n",
        "\n",
        "$p(y|\\mathbf{x})$\n",
        "\n",
        "$y = 1, 2, 3$"
      ],
      "metadata": {
        "id": "ZjYgP6Bw64lg"
      }
    },
    {
      "cell_type": "code",
      "source": [
        "# 2次元3クラスのデータ\n",
        "df = pd.read_csv('https://www-tlab.math.ryukoku.ac.jp/~takataka/course/ML/2dim3class2.csv', header=0)\n",
        "X = df.loc[:, ['x1', 'x2']].to_numpy()\n",
        "N, D = X.shape\n",
        "Y = df['label'].to_numpy()\n",
        "K = 3\n",
        "print(f'N = {N}, D = {D}, K = {K}')\n",
        "\n",
        "# 散布図を描く\n",
        "fig, ax = plt.subplots()\n",
        "for k in range(K):\n",
        "    ax.scatter(X[Y==k, 0], X[Y==k, 1], label=f'Class{k}')\n",
        "ax.set_xlim(-5, 5)\n",
        "ax.set_ylim(-5, 5)\n",
        "ax.set_aspect('equal')\n",
        "ax.legend()\n",
        "plt.show()"
      ],
      "metadata": {
        "id": "6xczmcgh4tFZ"
      },
      "execution_count": null,
      "outputs": []
    },
    {
      "cell_type": "markdown",
      "source": [
        "#### Q1.1 次のコードセルは何を計算しているか\n",
        "\n",
        "解答欄に数式も用いて説明を書きなさい．"
      ],
      "metadata": {
        "id": "04VNM5mL6HBO"
      }
    },
    {
      "cell_type": "code",
      "source": [
        "P = np.empty(K)\n",
        "for k in range(K):\n",
        "    P[k] = np.sum(Y==k)/N\n",
        "print('P = ', P)"
      ],
      "metadata": {
        "id": "MM2TEEPV5TtA"
      },
      "execution_count": null,
      "outputs": []
    },
    {
      "cell_type": "markdown",
      "source": [
        "【Q1.1 解答欄】\n",
        "\n"
      ],
      "metadata": {
        "id": "GYPBhsNk6hCa"
      }
    },
    {
      "cell_type": "markdown",
      "source": [
        "#### Q1.2 次のコードセルは何を計算しているか\n",
        "\n",
        "解答欄に数式も用いて説明を書きなさい．"
      ],
      "metadata": {
        "id": "Y34Min147U2i"
      }
    },
    {
      "cell_type": "code",
      "source": [
        "mu = np.empty((K, D))\n",
        "cov = np.empty((K, D, D))\n",
        "for k in range(K):\n",
        "    XX = X[Y==k, :]\n",
        "    mu[k] = np.mean(XX, axis=0)\n",
        "    cov[k] = (XX - mu[k]).T @ (XX - mu[k]) / XX.shape[0]\n",
        "    print(f'### Class{k}')\n",
        "    print(mu[k])\n",
        "    print(cov[k])\n",
        "    print()"
      ],
      "metadata": {
        "id": "t7Zp98Hh6NLC"
      },
      "execution_count": null,
      "outputs": []
    },
    {
      "cell_type": "markdown",
      "source": [
        "【Q1.2 解答欄】\n",
        "\n"
      ],
      "metadata": {
        "id": "hkBojK9l7iOU"
      }
    },
    {
      "cell_type": "markdown",
      "source": [
        "#### Q1.3 次のコードセルの `## ここから ##` と `## ここまで ##` の間のコードは何を求めているか．\n",
        "\n",
        "解答欄に数式も用いて説明を書きなさい．\n",
        "\n",
        "cf. `multivariate_normal.logpdf` についてはこちら: https://docs.scipy.org/doc/scipy/reference/generated/scipy.stats.multivariate_normal.html"
      ],
      "metadata": {
        "id": "YHjB7J1_8-dE"
      }
    },
    {
      "cell_type": "code",
      "source": [
        "# データを識別\n",
        "hoge = np.empty(K)\n",
        "ncorrect = 0\n",
        "for n in range(len(X)):\n",
        "    ## ここから ##\n",
        "    for k in range(K):\n",
        "        hoge[k] = np.log(P[k]) + multivariate_normal.logpdf(X[n], mean=mu[k], cov=cov[k])\n",
        "    yp = np.argmax(hoge)\n",
        "    ## ここまで ##\n",
        "    if yp == Y[n]:\n",
        "        ncorrect += 1\n",
        "print(f'{ncorrect}/{len(X)} = {ncorrect/len(X):.3f}')"
      ],
      "metadata": {
        "id": "fLY_HXIrFhAk"
      },
      "execution_count": null,
      "outputs": []
    },
    {
      "cell_type": "markdown",
      "source": [
        "【Q1.3 解答欄】\n",
        "\n"
      ],
      "metadata": {
        "id": "xWcif47i9wAh"
      }
    },
    {
      "cell_type": "markdown",
      "source": [
        "#### Q1.4 次のコードセルを実行すると得られる二つの図はそれぞれ何を表しているか\n",
        "\n",
        "解答欄に説明を書きなさい．数式を用いてもよい．"
      ],
      "metadata": {
        "id": "z-RW_vop-Nj_"
      }
    },
    {
      "cell_type": "code",
      "source": [
        "# グラフ描画用のグリッドデータの作成\n",
        "xmin, xmax = -5, 5\n",
        "ymin, ymax = -5, 5\n",
        "x_mesh, y_mesh = np.mgrid[xmin:xmax:0.02, ymin:ymax:0.02]\n",
        "X_mesh = np.dstack((x_mesh, y_mesh))\n",
        "\n",
        "# X_mesh の各点における〇〇確率の推定\n",
        "p = np.empty((K, X_mesh.shape[0]*X_mesh.shape[1]))\n",
        "for k in range(K):\n",
        "    p[k, :] = P[k] * multivariate_normal.pdf(X_mesh, mean=mu[k], cov=cov[k]).reshape(-1)\n",
        "p /= np.sum(p, axis=0)\n",
        "pp = p.reshape((K, X_mesh.shape[0], X_mesh.shape[1]))\n",
        "\n",
        "# グラフ\n",
        "fig = plt.figure(figsize=(9, 6))\n",
        "\n",
        "# 左図\n",
        "ax0 = fig.add_subplot(121)\n",
        "for k in range(K):\n",
        "    ax0.scatter(X[Y==k, 0], X[Y==k, 1])\n",
        "    ax0.contour(x_mesh, y_mesh, multivariate_normal.pdf(X_mesh, mean=mu[k], cov=cov[k]), levels=4)\n",
        "ax0.set_xlim(xmin, xmax)\n",
        "ax0.set_ylim(ymin, ymax)\n",
        "ax0.set_aspect('equal')\n",
        "\n",
        "# 右図\n",
        "cmap = ['Blues', 'Oranges', 'Greens']\n",
        "ax1 = fig.add_subplot(122)\n",
        "for k in range(K):\n",
        "    ax1.scatter(X[Y==k, 0], X[Y==k, 1])\n",
        "    ax1.contourf(x_mesh, y_mesh, pp[k], levels=[0.5, 0.6, 0.7, 0.8, 0.9, 1.0], cmap=cmap[k], alpha=0.3)\n",
        "ax1.set_xlim(xmin, xmax)\n",
        "ax1.set_ylim(ymin, ymax)\n",
        "ax1.set_aspect('equal')\n",
        "\n",
        "plt.show()"
      ],
      "metadata": {
        "id": "hivP7sCT7BY1"
      },
      "execution_count": null,
      "outputs": []
    },
    {
      "cell_type": "markdown",
      "source": [
        "【Q1.4 解答欄】\n",
        "\n"
      ],
      "metadata": {
        "id": "xizbzOO9-ctG"
      }
    },
    {
      "cell_type": "markdown",
      "source": [
        "---\n",
        "## 問題2\n",
        "---\n",
        "\n",
        "\n",
        "\n"
      ],
      "metadata": {
        "id": "yRLUbLYEguvu"
      }
    },
    {
      "cell_type": "markdown",
      "source": [
        "#### Q2 **混合正規分布モデル** (Gaussian Mixture Model) について調べた上で，次のことをやりなさい\n",
        "\n",
        "次の式の右辺に現れる記号がそれぞれ何を表すのかを解答欄に簡単に書きなさい．\n",
        "\n",
        "$$\n",
        "p(\\mathbf{x}) = \\sum_{m=1}^{M} w_m N(\\mathbf{x}|\\mathbf{\\mu}_m, \\Sigma_m)\n",
        "$$\n"
      ],
      "metadata": {
        "id": "IcJKa1BqcsZB"
      }
    },
    {
      "cell_type": "markdown",
      "source": [
        "【Q2 解答欄】\n",
        "\n"
      ],
      "metadata": {
        "id": "4eBLhTfWdpDU"
      }
    },
    {
      "cell_type": "markdown",
      "source": [
        "---\n",
        "## 問題3\n",
        "---\n",
        "\n",
        "以下では，2次元2クラスのデータに混合正規分布を当てはめて識別する実験を行っている．\n",
        "コードセルを順に実行し，問に答えなさい．\n",
        "解答欄に文章を記入することを求めている箇所がある．数式も用いたい場合は問題1や以下を参考にしたらよい．\n"
      ],
      "metadata": {
        "id": "Dwo3GcL3cBR2"
      }
    },
    {
      "cell_type": "markdown",
      "source": [
        "データの準備．"
      ],
      "metadata": {
        "id": "lkCkTVMhELBV"
      }
    },
    {
      "cell_type": "code",
      "source": [
        "moonX, moonY = make_moons(n_samples=(800, 200), noise=0.25)\n",
        "NL, NT = 500, 500\n",
        "XL, YL = moonX[:NL, :], moonY[:NL]\n",
        "XT, YT = moonX[NL:, :], moonY[NL:]\n",
        "print(XL.shape, YL.shape)\n",
        "print(XT.shape, YT.shape)"
      ],
      "metadata": {
        "id": "4vwBPRfKg2l_"
      },
      "execution_count": null,
      "outputs": []
    },
    {
      "cell_type": "code",
      "source": [
        "fig = plt.figure(figsize=(9, 6))\n",
        "ax0 = fig.add_subplot(121)\n",
        "ax0.scatter(XL[YL==0, 0], XL[YL==0, 1], marker='.', label='Class0')\n",
        "ax0.scatter(XL[YL==1, 0], XL[YL==1, 1], marker='.', label='Class1')\n",
        "ax0.set_xlim(-1.5, 2.5)\n",
        "ax0.set_ylim(-2, 2)\n",
        "ax0.set_aspect('equal')\n",
        "ax0.legend()\n",
        "ax0.set_title('training data')\n",
        "\n",
        "\n",
        "ax1 = fig.add_subplot(122)\n",
        "ax1.scatter(XT[YT==0, 0], XT[YT==0, 1], marker='.', label='Class0')\n",
        "ax1.scatter(XT[YT==1, 0], XT[YT==1, 1], marker='.', label='Class1')\n",
        "ax1.set_xlim(-1.5, 2.5)\n",
        "ax1.set_ylim(-2, 2)\n",
        "ax1.set_aspect('equal')\n",
        "ax1.legend()\n",
        "ax1.set_title('test data')\n",
        "\n",
        "plt.show()"
      ],
      "metadata": {
        "id": "alG4tvn5h-In"
      },
      "execution_count": null,
      "outputs": []
    },
    {
      "cell_type": "markdown",
      "source": [
        "#### Q3 次の2つのコードセルを，`M` の値をいろいろ変えながら実行し，結果を観察しなさい．\n",
        "\n",
        "解答欄に，どのような実験結果が得られたか，および，それに対する考察を書きなさい．混合正規分布モデルの学習は，パラメータの初期値が異なれば異なる結果となり得ることに注意（同じモデルでも何回か実行してみるのがよいでしょう）．\n",
        "\n",
        "\n"
      ],
      "metadata": {
        "id": "nPqXqDIsFJPS"
      }
    },
    {
      "cell_type": "code",
      "source": [
        "K = 2\n",
        "N, D = XL.shape\n",
        "M = 1\n",
        "\n",
        "# 〇〇確率を推定\n",
        "P = np.empty(K)\n",
        "for k in range(K):\n",
        "    P[k] = np.sum(YL==k)/N\n",
        "print('P =', P)\n",
        "\n",
        "# 〇〇を混合正規分布でモデル化\n",
        "mu = np.empty((K, M, D))\n",
        "cov = np.empty((K, M, D, D))\n",
        "model = np.empty(K, dtype=object)\n",
        "for k in range(K):\n",
        "    XX = XL[YL==k, :]\n",
        "    model[k] = GaussianMixture(n_components=M, covariance_type='full')\n",
        "    model[k].fit(XX)\n",
        "    mu[k, ::] = model[k].means_\n",
        "    cov[k, ::] = model[k].covariances_\n",
        "\n",
        "# 学習データの識別\n",
        "N = XL.shape[0]\n",
        "LL = np.empty((N, K))\n",
        "for n in range(N):\n",
        "    for k in range(K):\n",
        "        LL[n, k] = np.log(P[k]) + model[k].score_samples(XL[n, np.newaxis, :])\n",
        "Yp = np.argmax(LL, axis=1)\n",
        "ncorrect = np.sum(YL == Yp)\n",
        "print(f'学習データ: {ncorrect/N}')\n",
        "\n",
        "# テストデータの識別\n",
        "N = XT.shape[0]\n",
        "LL = np.empty((N, K))\n",
        "for n in range(N):\n",
        "    for k in range(K):\n",
        "        LL[n, k] = np.log(P[k]) + model[k].score_samples(XT[n, np.newaxis, :])\n",
        "Yp = np.argmax(LL, axis=1)\n",
        "ncorrect = np.sum(YT == Yp)\n",
        "print(f'テストデータ: {ncorrect/N}')"
      ],
      "metadata": {
        "id": "wQ2XHTAFkl-J"
      },
      "execution_count": null,
      "outputs": []
    },
    {
      "cell_type": "code",
      "source": [
        "# グラフ描画用のグリッドデータの作成\n",
        "xmin, xmax = -1.5, 2.5\n",
        "ymin, ymax = -2, 2\n",
        "x_mesh, y_mesh = np.mgrid[xmin:xmax:0.02, ymin:ymax:0.02]\n",
        "X_mesh = np.dstack((x_mesh, y_mesh))\n",
        "print(X_mesh.shape)\n",
        "\n",
        "# 事後確率の推定\n",
        "p = np.empty((K, X_mesh.shape[0]*X_mesh.shape[1]))\n",
        "for k in range(K):\n",
        "    proba = np.exp(model[k].score_samples(X_mesh.reshape((-1, 2))))\n",
        "    p[k, :] = P[k] * proba\n",
        "p /= np.sum(p, axis=0)\n",
        "pp = p.reshape((K, X_mesh.shape[0], X_mesh.shape[1]))\n",
        "\n",
        "# グラフ\n",
        "fig = plt.figure(facecolor=\"white\", figsize=(12, 8))\n",
        "\n",
        "# 左図\n",
        "ax0 = fig.add_subplot(121)\n",
        "for k in range(K):\n",
        "    ax0.scatter(XL[YL==k, 0], XL[YL==k, 1])\n",
        "    for m in range(M):\n",
        "        z = multivariate_normal.pdf(X_mesh, mean=mu[k, m], cov=cov[k, m])\n",
        "        ax0.contour(x_mesh, y_mesh, z, levels=4)\n",
        "ax0.set_xlim(xmin, xmax)\n",
        "ax0.set_ylim(ymin, ymax)\n",
        "ax0.set_aspect('equal')\n",
        "\n",
        "# 右図\n",
        "cmap = ['Blues', 'Oranges', 'Greens']\n",
        "ax1 = fig.add_subplot(122)\n",
        "for k in range(K):\n",
        "    ax1.scatter(XL[YL==k, 0], XL[YL==k, 1])\n",
        "    ax1.contourf(x_mesh, y_mesh, pp[k], levels=[0.5, 0.6, 0.7, 0.8, 0.9, 1.0], cmap=cmap[k], alpha=0.3)\n",
        "ax1.set_xlim(xmin, xmax)\n",
        "ax1.set_ylim(ymin, ymax)\n",
        "ax1.set_aspect('equal')\n",
        "\n",
        "plt.show()"
      ],
      "metadata": {
        "id": "rnSUj6PIA6WI"
      },
      "execution_count": null,
      "outputs": []
    },
    {
      "cell_type": "markdown",
      "source": [
        "【Q3 解答欄】\n",
        "\n"
      ],
      "metadata": {
        "id": "W20a-g83PtZ5"
      }
    },
    {
      "cell_type": "markdown",
      "source": [
        "---\n",
        "## 問題4\n",
        "---\n",
        "\n",
        "以下では，MNISTと呼ばれる手書き数字データを対象として，ある実験を行っている．\n",
        "コードセルを順に実行し，問に答えなさい．\n",
        "\n"
      ],
      "metadata": {
        "id": "FrnQKi5sHGAd"
      }
    },
    {
      "cell_type": "markdown",
      "source": [
        "### 準備"
      ],
      "metadata": {
        "id": "MLkxjjltHXGA"
      }
    },
    {
      "cell_type": "code",
      "source": [
        "# データを画像として表示するための関数\n",
        "#\n",
        "def display(data, nx, ny, nrow=28, ncol=28, gap=4):\n",
        "\n",
        "    assert data.shape[0] == nx*ny\n",
        "    assert data.shape[1] == nrow*ncol\n",
        "\n",
        "    # 並べた画像の幅と高さ\n",
        "    width  = nx * (ncol + gap) + gap\n",
        "    height = ny * (nrow + gap) + gap\n",
        "\n",
        "    # 画像の作成\n",
        "    img = np.zeros((height, width), dtype = int) + 128\n",
        "    for iy in range(ny):\n",
        "        lty = iy*(nrow + gap) + gap\n",
        "        for ix in range(nx):\n",
        "            ltx = ix*(ncol + gap) + gap\n",
        "            img[lty:lty+nrow, ltx:ltx+ncol] = data[iy*nx+ix].reshape((nrow, ncol))\n",
        "\n",
        "    # 画像の出力\n",
        "    plt.axis('off')\n",
        "    plt.imshow(img, cmap = 'gray')\n",
        "    plt.show()"
      ],
      "metadata": {
        "id": "kD0XQBRcBmfE"
      },
      "execution_count": null,
      "outputs": []
    },
    {
      "cell_type": "code",
      "source": [
        "# MNIST のデータを入手 https://www.openml.org/d/554\n",
        "X_mnist, Y_mnist = fetch_openml('mnist_784', version=1, return_X_y=True, as_frame=False, parser='pandas')\n",
        "Y_mnist = Y_mnist.astype(int)\n",
        "\n",
        "# 最初の6万枚を学習データ，残り1万枚をテストデータとするのが一般的だが，\n",
        "# ここでは計算コストを減らすため学習データ数を削減\n",
        "XL, YL = X_mnist[:10000, :], Y_mnist[:10000]\n",
        "XT, YT = X_mnist[60000:, :], Y_mnist[60000:]\n",
        "print(XL.shape, YL.shape, XT.shape, YT.shape)"
      ],
      "metadata": {
        "id": "w5KepSsUAJlE"
      },
      "execution_count": null,
      "outputs": []
    },
    {
      "cell_type": "code",
      "source": [
        "# 一部の可視化\n",
        "nx, ny = 10, 5\n",
        "display(XL[:ny*nx], nx, ny)\n",
        "for iy in range(ny):\n",
        "    print(YL[iy*nx:(iy+1)*nx])"
      ],
      "metadata": {
        "id": "4IOVFIwGBsC6"
      },
      "execution_count": null,
      "outputs": []
    },
    {
      "cell_type": "markdown",
      "source": [
        "### 実験"
      ],
      "metadata": {
        "id": "FmxK7-NtHjNx"
      }
    },
    {
      "cell_type": "code",
      "source": [
        "K = 10\n",
        "N, D = XL.shape\n",
        "M = 16\n",
        "\n",
        "# 〇〇確率を推定\n",
        "P = np.empty(K)\n",
        "for k in range(K):\n",
        "    P[k] = np.sum(YL==k)/N\n",
        "print('P =', P)\n",
        "\n",
        "# 〇〇を混合正規分布でモデル化\n",
        "mu = np.empty((K, M, D))\n",
        "cov = np.empty((K, M, D, D))\n",
        "model = np.empty(K, dtype=object)\n",
        "for k in range(K):\n",
        "    print(f'Class{k}')\n",
        "    XX = XL[YL==k, :]\n",
        "    model[k] = GaussianMixture(n_components=M, covariance_type='full')\n",
        "    model[k].fit(XX)\n",
        "    mu[k, ::] = model[k].means_\n",
        "    cov[k, ::] = model[k].covariances_\n",
        "\n",
        "# 各クラスの多変量正規分布の平均を可視化\n",
        "Xm = np.empty((K, M, D))\n",
        "for k in range(K):\n",
        "    for m in range(M):\n",
        "        Xm[k, m, :] = mu[k, m, :]\n",
        "display(Xm.reshape((-1, D)), M, K)"
      ],
      "metadata": {
        "id": "-6CiSHAOHpLl"
      },
      "execution_count": null,
      "outputs": []
    },
    {
      "cell_type": "code",
      "source": [
        "# 学習データの識別\n",
        "N = XL.shape[0]\n",
        "LL = np.empty((N, K))\n",
        "for k in range(K):\n",
        "    LL[:, k] = np.log(P[k]) + model[k].score_samples(XL)\n",
        "Yp = np.argmax(LL, axis=1)\n",
        "ncorrect = np.sum(YL == Yp)\n",
        "print(f'学習データ: {ncorrect/N}')\n",
        "\n",
        "# テストデータの識別\n",
        "N = XT.shape[0]\n",
        "LL = np.empty((N, K))\n",
        "for k in range(K):\n",
        "    LL[:, k] = np.log(P[k]) + model[k].score_samples(XT)\n",
        "Yp = np.argmax(LL, axis=1)\n",
        "ncorrect = np.sum(YT == Yp)\n",
        "print(f'テストデータ: {ncorrect/N}')"
      ],
      "metadata": {
        "id": "ieKkB9OmLRM2"
      },
      "execution_count": null,
      "outputs": []
    },
    {
      "cell_type": "markdown",
      "source": [
        "#### Q4 上記を `M` の値をいろいろ変えながら実行し，結果を観察しなさい．\n",
        "\n",
        "解答欄に，どのような実験結果が得られたか，および，それに対する考察を書きなさい．\n",
        "\n",
        "\n"
      ],
      "metadata": {
        "id": "Zzpe0RJKPf3h"
      }
    },
    {
      "cell_type": "markdown",
      "source": [
        "【Q4 解答欄】\n",
        "\n"
      ],
      "metadata": {
        "id": "Lk8rDjA1PxAo"
      }
    },
    {
      "cell_type": "code",
      "source": [],
      "metadata": {
        "id": "KDkLNcsLdxvf"
      },
      "execution_count": null,
      "outputs": []
    }
  ],
  "metadata": {
    "colab": {
      "provenance": [],
      "toc_visible": true,
      "include_colab_link": true
    },
    "kernelspec": {
      "display_name": "Python 3",
      "name": "python3"
    },
    "language_info": {
      "codemirror_mode": {
        "name": "ipython",
        "version": 3
      },
      "file_extension": ".py",
      "mimetype": "text/x-python",
      "name": "python",
      "nbconvert_exporter": "python",
      "pygments_lexer": "ipython3",
      "version": "3.9.7"
    }
  },
  "nbformat": 4,
  "nbformat_minor": 0
}