{
  "nbformat": 4,
  "nbformat_minor": 0,
  "metadata": {
    "colab": {
      "name": "Vision2021-ex05b.ipynb",
      "provenance": [],
      "collapsed_sections": [
        "2Nuoadmu_XyS",
        "rKbdoWPcCpNf"
      ],
      "include_colab_link": true
    },
    "kernelspec": {
      "name": "python3",
      "display_name": "Python 3"
    }
  },
  "cells": [
    {
      "cell_type": "markdown",
      "metadata": {
        "id": "view-in-github",
        "colab_type": "text"
      },
      "source": [
        "<a href=\"https://colab.research.google.com/github/takatakamanbou/Vision/blob/main/Vision2021_ex05b.ipynb\" target=\"_parent\"><img src=\"https://colab.research.google.com/assets/colab-badge.svg\" alt=\"Open In Colab\"/></a>"
      ]
    },
    {
      "cell_type": "markdown",
      "metadata": {
        "id": "DDBFFtt8-EUa"
      },
      "source": [
        "# Vision2021-ex05b\n",
        "\n",
        "課題の期限や提出の方法などについては，Visionチーム内に書いてます．"
      ]
    },
    {
      "cell_type": "markdown",
      "metadata": {
        "id": "NI3mY1FGZWgV"
      },
      "source": [
        "# MNISTのロジスティック回帰\n",
        "\n"
      ]
    },
    {
      "cell_type": "markdown",
      "metadata": {
        "id": "L2ajEMYLWlhT"
      },
      "source": [
        "## 準備"
      ]
    },
    {
      "cell_type": "code",
      "metadata": {
        "id": "E13UrMaqWnFB"
      },
      "source": [
        "import numpy as np\n",
        "import scipy as sp\n",
        "#from scipy.misc import logsumexp     # for older SciPy \n",
        "from scipy.special import logsumexp     # for scipy.misc.logsumexp\n",
        "import matplotlib.pyplot as plt"
      ],
      "execution_count": null,
      "outputs": []
    },
    {
      "cell_type": "markdown",
      "metadata": {
        "id": "Xxu3xUj4xN0j"
      },
      "source": [
        "## MNIST の入手"
      ]
    },
    {
      "cell_type": "markdown",
      "metadata": {
        "id": "7Ud7o6oByPWH"
      },
      "source": [
        "MNIST についてはこちらを参考: http://yann.lecun.com/exdb/mnist/"
      ]
    },
    {
      "cell_type": "code",
      "metadata": {
        "id": "MllQgpMUyBJT"
      },
      "source": [
        "# 上記サイトから 4 つのファイルを入手し， gunzip\n",
        "! for fn in train-images-idx3-ubyte t10k-images-idx3-ubyte train-labels-idx1-ubyte t10k-labels-idx1-ubyte; do if [ ! -e ${fn} ]; then wget -nc http://yann.lecun.com/exdb/mnist/${fn}.gz ; gunzip ${fn}.gz; fi; done\n",
        "! ls -l"
      ],
      "execution_count": null,
      "outputs": []
    },
    {
      "cell_type": "markdown",
      "metadata": {
        "id": "yfQ7x5ws0Tmz"
      },
      "source": [
        "## MNIST を扱う関数の定義と動作確認"
      ]
    },
    {
      "cell_type": "code",
      "metadata": {
        "id": "oITH_eAnxMsb"
      },
      "source": [
        "# MNIST のためのクラスの定義\n",
        "\n",
        "import struct\n",
        "import os\n",
        "import numpy as np\n",
        "\n",
        "class MNIST:\n",
        "    \n",
        "    def __init__(self):\n",
        "\n",
        "        fnImageL = 'train-images-idx3-ubyte'\n",
        "        fnImageT = 't10k-images-idx3-ubyte'\n",
        "        fnLabelL = 'train-labels-idx1-ubyte'\n",
        "        fnLabelT = 't10k-labels-idx1-ubyte'\n",
        "    \n",
        "        if not os.path.exists(fnImageL) or not os.path.exists(fnImageT) or not os.path.exists(fnLabelL) or not os.path.exists(fnLabelT):\n",
        "            print('Please get the MNIST files first.')\n",
        "            return\n",
        "       \n",
        "        self.fnImage = {'L': fnImageL, 'T': fnImageT}\n",
        "        self.fnLabel  = {'L': fnLabelL, 'T': fnLabelT}\n",
        "        self.nrow = 28\n",
        "        self.ncol = 28\n",
        "        self.nclass = 10\n",
        "        \n",
        "        \n",
        "    def getLabel( self, LT ):\n",
        "        \n",
        "        return _readLabel( self.fnLabel[LT] )\n",
        " \n",
        " \n",
        "    def getImage( self, LT ):\n",
        "        \n",
        "        return _readImage( self.fnImage[LT] )\n",
        " \n",
        " \n",
        "##### reading the label file\n",
        "#\n",
        "def _readLabel( fnLabel ):\n",
        " \n",
        "    f = open( fnLabel, 'rb' )\n",
        " \n",
        "    ### header (two 4B integers, magic number(2049) & number of items)\n",
        "    #\n",
        "    header = f.read( 8 )\n",
        "    mn, num = struct.unpack( '>2i', header )  # MSB first (bigendian)\n",
        "    assert mn == 2049\n",
        "    #print mn, num\n",
        " \n",
        "    ### labels (unsigned byte)\n",
        "    #\n",
        "    label = np.array( struct.unpack( '>%dB' % num, f.read() ), dtype = int )\n",
        " \n",
        "    f.close()\n",
        " \n",
        "    return label\n",
        "\n",
        " \n",
        "##### reading the image file\n",
        "#\n",
        "def _readImage( fnImage ):\n",
        " \n",
        "    f = open( fnImage, 'rb' )\n",
        " \n",
        "    ### header (four 4B integers, magic number(2051), #images, #rows, and #cols\n",
        "    #\n",
        "    header = f.read( 16 )\n",
        "    mn, num, nrow, ncol = struct.unpack( '>4i', header ) # MSB first (bigendian)\n",
        "    assert mn == 2051\n",
        "    #print mn, num, nrow, ncol\n",
        " \n",
        "    ### pixels (unsigned byte)\n",
        "    #\n",
        "    npixel = ncol * nrow\n",
        "    #pixel = np.empty( ( num, npixel ), dtype = int )\n",
        "    #pixel = np.empty( ( num, npixel ), dtype = np.int32 )\n",
        "    pixel = np.empty( ( num, npixel ) )\n",
        "    for i in range( num ):\n",
        "        buf = struct.unpack( '>%dB' % npixel, f.read( npixel ) )\n",
        "        pixel[i, :] = np.asarray( buf )\n",
        " \n",
        "    f.close()\n",
        " \n",
        "    return pixel\n",
        "        "
      ],
      "execution_count": null,
      "outputs": []
    },
    {
      "cell_type": "code",
      "metadata": {
        "id": "Wfp_79-y1f_D"
      },
      "source": [
        "### MNIST クラスの動作確認 ###\n",
        "\n",
        "mnist = MNIST()\n",
        "print(mnist.nrow, mnist.ncol, mnist.nclass)\n",
        "\n",
        "print( '# MNIST training data' )\n",
        "dat = mnist.getImage( 'L' )\n",
        "lab = mnist.getLabel( 'L' )\n",
        "print( dat.shape, dat.dtype, lab.shape, lab.dtype )\n",
        " \n",
        "print( '# MNIST test data' )\n",
        "dat = mnist.getImage( 'T' )\n",
        "lab = mnist.getLabel( 'T' )\n",
        "print( dat.shape, dat.dtype, lab.shape, lab.dtype )    "
      ],
      "execution_count": null,
      "outputs": []
    },
    {
      "cell_type": "code",
      "metadata": {
        "id": "1mu2YUcI2wIr"
      },
      "source": [
        "### MNIST データを可視化するプログラム ###\n",
        "\n",
        "import cv2\n",
        "import numpy as np\n",
        "import matplotlib.pyplot as plt\n",
        "\n",
        "nx, ny = 16, 8  #  横縦に並べる画像の数\n",
        "gap = 4         #  画像間のスペース\n",
        "\n",
        "# MNIST の学習データ \n",
        "mn = MNIST()\n",
        "dat = mn.getImage('L')\n",
        "lab = mn.getLabel('L')\n",
        "datS = dat[:nx*ny]  # 最初の nx * ny 個だけ取り出す\n",
        "labS = lab[:nx*ny]  # 最初の nx * ny 個だけ取り出す\n",
        "nrow, ncol = mn.nrow, mn.ncol\n",
        "\n",
        "# 並べた画像の幅と高さ\n",
        "width  = nx * (ncol + gap) + gap\n",
        "height = ny * (nrow + gap) + gap\n",
        "\n",
        "# 画像の作成\n",
        "img = np.zeros((height, width), dtype = int) + 128\n",
        "for iy in range(ny):\n",
        "    lty = iy*(nrow + gap) + gap\n",
        "    for ix in range(nx):\n",
        "        ltx = ix*(ncol + gap) + gap\n",
        "        img[lty:lty+nrow, ltx:ltx+ncol] = datS[iy*nx+ix].reshape((nrow, ncol))\n",
        "\n",
        "# 画像の出力\n",
        "plt.axis('off')\n",
        "plt.imshow(img, cmap = 'gray')\n",
        "plt.show()\n",
        "\n",
        "# ラベルの出力\n",
        "print(labS.reshape((ny, nx)))"
      ],
      "execution_count": null,
      "outputs": []
    },
    {
      "cell_type": "markdown",
      "metadata": {
        "id": "hD2-Ck8eo63s"
      },
      "source": [
        "## 学習のための関数の定義"
      ]
    },
    {
      "cell_type": "code",
      "metadata": {
        "id": "rWhz5EjiTNsy"
      },
      "source": [
        "### ロジスティック回帰モデル\n",
        "#\n",
        "def  model(X, W, b):\n",
        "    \n",
        "    # X, W, b が正しい shape かチェック\n",
        "    assert X.ndim == 2   # (batchsize, D)\n",
        "    assert W.ndim == 2  # (K, D) \n",
        "    assert b.ndim == 1   # (K,)\n",
        "    K, D = W.shape\n",
        "    assert X.shape[1] == D\n",
        "    assert b.shape[0] == K\n",
        "    \n",
        "    # softmax の手前の値\n",
        "    Y = X @ W.T + b[np.newaxis, :]  # (batchsize, K)\n",
        "    \n",
        "    # softmax （普通の計算法）\n",
        "    #Ztmp = np.exp(Y)  # (batchsize, K)\n",
        "    #Z = Ztmp / np.sum(Ztmp, axis = 1, keepdims = True)  # (batchsize, K)\n",
        "    \n",
        "    # softmax （logsumexp経由，こうする理由は後述）\n",
        "    lse = logsumexp(Y, axis = 1, keepdims = True)  # (batchsize,1)\n",
        "    Z = np.exp(Y - lse)                                                  # (batchsize, K)\n",
        "    \n",
        "    return Y, Z"
      ],
      "execution_count": null,
      "outputs": []
    },
    {
      "cell_type": "code",
      "metadata": {
        "id": "3yYoS50bci_n"
      },
      "source": [
        "### 交差エントロピー （logsumexp version）\n",
        "#\n",
        "def cross_entropy2(Y, lab):\n",
        "    \n",
        "    # shape の整合性をチェック\n",
        "    assert Y.ndim == 2      # (n, K)\n",
        "    assert lab.ndim == 1   # (n,)\n",
        "    n, K = Y.shape\n",
        "    assert Y.shape[0] == n\n",
        "\n",
        "    # 交差エントロピー\n",
        "    Yk = np.choose(lab, Y.T)                 # Y の各行について， lab の値に該当する列の値のみ取り出す\n",
        "    H = - Yk + logsumexp(Y, axis = 1)  # こうやって計算する理由は後述\n",
        "        \n",
        "    return H"
      ],
      "execution_count": null,
      "outputs": []
    },
    {
      "cell_type": "code",
      "metadata": {
        "id": "6zrph5qOfD-_"
      },
      "source": [
        "### パラメータの更新\n",
        "#\n",
        "def update(X, Z, Zt, W, b, eta):\n",
        "    \n",
        "    Zt_Z = Zt - Z\n",
        "    \n",
        "    # update W\n",
        "    #dHdW = ##### ここを書きましょう #####\n",
        "    W += eta * dHdW\n",
        "    \n",
        "    # update b\n",
        "    #dHdb  = ##### ここを書きましょう #####\n",
        "    b += eta * dHdb"
      ],
      "execution_count": null,
      "outputs": []
    },
    {
      "cell_type": "markdown",
      "metadata": {
        "id": "k1V60DWgrrz7"
      },
      "source": [
        "## データの用意"
      ]
    },
    {
      "cell_type": "code",
      "metadata": {
        "id": "lkaPr6pDsGFG"
      },
      "source": [
        "# 学習データと検査データ\n",
        "\n",
        "mn = MNIST()\n",
        "D = mn.nrow * mn.ncol\n",
        "K = mn.nclass\n",
        "\n",
        "datLraw = mn.getImage('L') / 255.0  #  [0, 255] => [0,1]\n",
        "labLraw = mn.getLabel('L')\n",
        "datL = datLraw[:50000, :]   # 6万個のうち最初の5万個を学習用に\n",
        "labL = labLraw[:50000]\n",
        "datV = datLraw[50000:, :]   # 残りは検査(validation)用に\n",
        "labV = labLraw[50000:]\n",
        "\n",
        "nL = datL.shape[0]\n",
        "nV = datV.shape[0]"
      ],
      "execution_count": null,
      "outputs": []
    },
    {
      "cell_type": "code",
      "metadata": {
        "id": "ijpHP6pF6Fls"
      },
      "source": [
        "# テストデータ\n",
        "\n",
        "datT = mn.getImage('T') / 255.0  #  [0, 255] => [0,1]\n",
        "labT = mn.getLabel('T')\n",
        "nT = datT.shape[0]"
      ],
      "execution_count": null,
      "outputs": []
    },
    {
      "cell_type": "markdown",
      "metadata": {
        "id": "11KPE_K9swor"
      },
      "source": [
        "## 学習させる"
      ]
    },
    {
      "cell_type": "code",
      "metadata": {
        "id": "tD3468LXgfw2"
      },
      "source": [
        "# 教師信号の生成\n",
        "ZtL = np.zeros((nL, K))\n",
        "for k in range(K):\n",
        "    ZtL[labL == k, k] = 1.0\n",
        "\n",
        "# パラメータの初期化\n",
        "W = 0.01 * np.random.random((K, D))\n",
        "b = 0.01 * np.random.random(K)\n",
        "\n",
        "# 実験条件の設定\n",
        "nitr = 1000\n",
        "eta = 0.01\n",
        "batchsize = 64\n",
        "\n",
        "# 学習の繰り返し\n",
        "for i in range(nitr):\n",
        "    \n",
        "    # バッチの作成（ここでは毎回ランダムに選択）\n",
        "    idx = np.random.randint(nL, size = batchsize)\n",
        "    X = datL[idx, :]\n",
        "    Zt = ZtL[idx, :]\n",
        "    \n",
        "    # 出力の計算とパタメータの更新\n",
        "    Y, Z = model(X, W, b)\n",
        "    update(X, Z, Zt, W, b, eta)\n",
        "    \n",
        "    # 適当なタイミングで交差エントロピーと識別率を表示\n",
        "    if i < 10 or i % 50 == 0:\n",
        "        # 学習データの交差エントロピーと正答数\n",
        "        Y, Z = model(datL, W, b)\n",
        "        HL = cross_entropy2(Y, labL)\n",
        "        correctL = np.sum(labL == np.argmax(Z, axis = 1)) \n",
        "        # 検査データの交差エントロピーと正答数\n",
        "        Y, Z = model(datV, W, b)\n",
        "        HV = cross_entropy2(Y, labV)\n",
        "        correctV = np.sum(labV == np.argmax(Z, axis = 1)) \n",
        "\n",
        "        print('{0}   {1:.5f} {2:.3f}     {3:.5f} {4:.3f}'.format(i, np.mean(HL), correctL / nL, np.mean(HV), correctV / nV))"
      ],
      "execution_count": null,
      "outputs": []
    },
    {
      "cell_type": "markdown",
      "metadata": {
        "id": "Uk8FSktmszZD"
      },
      "source": [
        "## テストする\n",
        "\n"
      ]
    },
    {
      "cell_type": "code",
      "metadata": {
        "id": "JoX7F3UzvIdE"
      },
      "source": [
        "i = nitr\n",
        "\n",
        "Y, Z = model(datL, W, b)\n",
        "HL = cross_entropy2(Z, labL)\n",
        "correctL = np.sum(labL == np.argmax(Z, axis = 1))\n",
        "\n",
        "Y, Z = model(datV, W, b)\n",
        "HV = cross_entropy2(Z, labV)\n",
        "correctV = np.sum(labV == np.argmax(Z, axis = 1))\n",
        "\n",
        "Y, Z = model(datT, W, b)\n",
        "HT = cross_entropy2(Z, labT)\n",
        "correctT = np.sum(labT == np.argmax(Z, axis = 1))\n",
        "\n",
        "print('{0}   {1:.5f} {2:.3f}     {3:.5f} {4:.3f}     {5:.5f} {6:.3f}'.format(i, np.mean(HL), correctL / nL, np.mean(HV), correctV / nV, np.mean(HT), correctT / nT))"
      ],
      "execution_count": null,
      "outputs": []
    },
    {
      "cell_type": "markdown",
      "metadata": {
        "id": "eqAvnWsM3-uI"
      },
      "source": [
        "# MNIST の最近傍法"
      ]
    },
    {
      "cell_type": "markdown",
      "metadata": {
        "id": "0AbSblTL4ZW5"
      },
      "source": [
        "## かしこいやり方"
      ]
    },
    {
      "cell_type": "markdown",
      "metadata": {
        "id": "hxfIuA3I4NwM"
      },
      "source": [
        "$||\\mathbf{x}||^2$ を求めておく"
      ]
    },
    {
      "cell_type": "code",
      "metadata": {
        "id": "4PJVZXhg32LI"
      },
      "source": [
        "X2 = np.sum(datL**2, axis = 1)"
      ],
      "execution_count": null,
      "outputs": []
    },
    {
      "cell_type": "markdown",
      "metadata": {
        "id": "WEbyI7NS4fIY"
      },
      "source": [
        "テストデータと学習データたちとの内積を使って最近傍法"
      ]
    },
    {
      "cell_type": "code",
      "metadata": {
        "id": "zFUeCBYz39ky"
      },
      "source": [
        "%%time\n",
        "# ↑このセルの実行時間を計測\n",
        "\n",
        "N = 1000 # テストデータほんとは1万個あるけど最初のN個で勘弁してやる\n",
        "out = np.empty(N, dtype=int)  # 識別結果を入れる\n",
        "\n",
        "for n in range(N):\n",
        "    if n % 100 == 0:\n",
        "        print(n)\n",
        "    d2 = X2 - 2 * (datL @ datT[n]) # ここ括弧重要 https://twitter.com/takataka8191/status/1132542307427708928?s=20\n",
        "    out[n] = labL[np.argmin(d2)]\n",
        "\n",
        "\n",
        "cc = np.sum(out == labT[:N])  # 正解数\n",
        "print('{0}/{1} = {2:.2f}%'.format(cc, N, cc/N*100))"
      ],
      "execution_count": null,
      "outputs": []
    },
    {
      "cell_type": "markdown",
      "metadata": {
        "id": "em5_87nk9UX5"
      },
      "source": [
        "## ふつーのやり方"
      ]
    },
    {
      "cell_type": "code",
      "metadata": {
        "id": "RR87MAFi9XRA"
      },
      "source": [
        "%%time\n",
        "# ↑このセルの実行時間を計測\n",
        "\n",
        "N = 1000 # テストデータほんとは1万個あるけど最初のN個で勘弁してやる\n",
        "out = np.empty(N, dtype=int)  # 識別結果を入れる\n",
        "\n",
        "for n in range(N):  \n",
        "    if n % 100 == 0:\n",
        "        print(n)\n",
        "    d2 = np.sum(np.square(datL - datT[n, np.newaxis, :]), axis = 1)  # 普通にユークリッド距離を計算\n",
        "    out[n] = labL[np.argmin(d2)]\n",
        "\n",
        "\n",
        "cc = np.sum(out == labT[:N])  # 正解数\n",
        "print('{0}/{1} = {2:.2f}%'.format(cc, N, cc/N*100))"
      ],
      "execution_count": null,
      "outputs": []
    },
    {
      "cell_type": "code",
      "metadata": {
        "id": "Qsq35kn7ADwP"
      },
      "source": [
        ""
      ],
      "execution_count": null,
      "outputs": []
    }
  ]
}