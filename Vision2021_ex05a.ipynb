{
  "nbformat": 4,
  "nbformat_minor": 0,
  "metadata": {
    "colab": {
      "name": "Vision2021-ex05a.ipynb",
      "provenance": [],
      "collapsed_sections": [],
      "include_colab_link": true
    },
    "kernelspec": {
      "name": "python3",
      "display_name": "Python 3"
    }
  },
  "cells": [
    {
      "cell_type": "markdown",
      "metadata": {
        "id": "view-in-github",
        "colab_type": "text"
      },
      "source": [
        "<a href=\"https://colab.research.google.com/github/takatakamanbou/Vision/blob/main/Vision2021_ex05a.ipynb\" target=\"_parent\"><img src=\"https://colab.research.google.com/assets/colab-badge.svg\" alt=\"Open In Colab\"/></a>"
      ]
    },
    {
      "cell_type": "markdown",
      "metadata": {
        "id": "89jAFzjh9nPf"
      },
      "source": [
        "# Vision2021-ex05a\n",
        "\n",
        "課題の期限や提出の方法などについては，Visionチーム内に書いてます．"
      ]
    },
    {
      "cell_type": "markdown",
      "metadata": {
        "id": "NI3mY1FGZWgV"
      },
      "source": [
        "# 2次元データのロジスティック回帰\n",
        "\n"
      ]
    },
    {
      "cell_type": "markdown",
      "metadata": {
        "id": "DPgbq5RxDgx9"
      },
      "source": [
        "正しく動作させるためには，関数 update の中身を修正する必要があります．それ以外は，いじらなくてもok．学習がちゃんと進むことが確認できたら，条件をいろいろ変えてみたらよいでしょう．"
      ]
    },
    {
      "cell_type": "markdown",
      "metadata": {
        "id": "L2ajEMYLWlhT"
      },
      "source": [
        "## 準備"
      ]
    },
    {
      "cell_type": "code",
      "metadata": {
        "id": "E13UrMaqWnFB"
      },
      "source": [
        "import numpy as np\n",
        "import scipy as sp\n",
        "#from scipy.misc import logsumexp     # for older SciPy \n",
        "from scipy.special import logsumexp\n",
        "import matplotlib.pyplot as plt"
      ],
      "execution_count": null,
      "outputs": []
    },
    {
      "cell_type": "markdown",
      "metadata": {
        "id": "hD2-Ck8eo63s"
      },
      "source": [
        "##関数の定義"
      ]
    },
    {
      "cell_type": "code",
      "metadata": {
        "id": "rWhz5EjiTNsy"
      },
      "source": [
        "### ロジスティック回帰モデル\n",
        "#\n",
        "def  model(X, W, b):\n",
        "    \n",
        "    # X, W, b が正しい shape かチェック\n",
        "    assert X.ndim == 2   # (batchsize, D)\n",
        "    assert W.ndim == 2  # (K, D) \n",
        "    assert b.ndim == 1   # (K,)\n",
        "    K, D = W.shape\n",
        "    assert X.shape[1] == D\n",
        "    assert b.shape[0] == K\n",
        "    \n",
        "    # softmax の手前の値\n",
        "    Y = X @ W.T + b[np.newaxis, :]  # (batchsize, K)\n",
        "    \n",
        "    # softmax （普通の計算法）\n",
        "    #Ztmp = np.exp(Y)  # (batchsize, K)\n",
        "    #Z = Ztmp / np.sum(Ztmp, axis = 1, keepdims = True)  # (batchsize, K)\n",
        "    \n",
        "    # softmax （logsumexp経由，こうする理由は後述）\n",
        "    lse = logsumexp(Y, axis = 1, keepdims = True)  # (batchsize,1)\n",
        "    Z = np.exp(Y - lse)                                                  # (batchsize, K)\n",
        "    \n",
        "    return Y, Z"
      ],
      "execution_count": null,
      "outputs": []
    },
    {
      "cell_type": "code",
      "metadata": {
        "id": "ObEiBOTyW08T"
      },
      "source": [
        "### 交差エントロピー （教師信号 t は 0 か 1 しかとらない前提で， t のかわりにクラスラベル lab を用いる）\n",
        "#\n",
        "def cross_entropy(Z, lab):\n",
        "    \n",
        "    # shape の整合性をチェック\n",
        "    assert Z.ndim == 2      # (n, K)\n",
        "    assert lab.ndim == 1   # (n,)\n",
        "    n, K = Z.shape\n",
        "    assert Z.shape[0] == n\n",
        "    \n",
        "    # 交差エントロピー\n",
        "    Zk = np.choose(lab, Z.T) # Z の各行について， lab の値に該当する列の値のみ取り出す\n",
        "    H = -np.log(Zk)\n",
        "        \n",
        "    return H"
      ],
      "execution_count": null,
      "outputs": []
    },
    {
      "cell_type": "code",
      "metadata": {
        "id": "3yYoS50bci_n"
      },
      "source": [
        "### 交差エントロピー （logsumexp version）\n",
        "#\n",
        "def cross_entropy2(Y, lab):\n",
        "    \n",
        "    # shape の整合性をチェック\n",
        "    assert Y.ndim == 2      # (n, K)\n",
        "    assert lab.ndim == 1   # (n,)\n",
        "    n, K = Y.shape\n",
        "    assert Y.shape[0] == n\n",
        "\n",
        "    # 交差エントロピー\n",
        "    Yk = np.choose(lab, Y.T)                 # Y の各行について， lab の値に該当する列の値のみ取り出す\n",
        "    H = - Yk + logsumexp(Y, axis = 1)  # こうやって計算する理由は後述\n",
        "        \n",
        "    return H"
      ],
      "execution_count": null,
      "outputs": []
    },
    {
      "cell_type": "markdown",
      "metadata": {
        "id": "O6MLocArpDoZ"
      },
      "source": [
        "上記の関数たちの中で，softmax の計算の時に logsumexp を使ったり，交差エントロピーの計算の時に Z のかわりに Y を使ったりしているのは，その方が数値計算的に安全だから．もう少し詳しく知りたいひとは以下をどうぞ．\n",
        "- http://takatakamanbou.hatenablog.com/entry/2015/03/26/214605\n",
        "- http://takatakamanbou.hatenablog.com/entry/2015/01/23/235500\n",
        "- https://docs.scipy.org/doc/scipy-0.18.1/reference/generated/scipy.misc.logsumexp.html"
      ]
    },
    {
      "cell_type": "code",
      "metadata": {
        "id": "6zrph5qOfD-_"
      },
      "source": [
        "### パラメータの更新\n",
        "#\n",
        "def update(X, Z, Zt, W, b, eta):\n",
        "    \n",
        "    Zt_Z = Zt - Z\n",
        "    \n",
        "    # update W\n",
        "    #dHdW = ##### ここを書きましょう #####\n",
        "    W += eta * dHdW\n",
        "    \n",
        "    ### うまくいかないときは，Zt_Z.shape, X.shape, W.shape 等を print して考えてみるとよいかも\n",
        "    \n",
        "    # update b\n",
        "    #dHdb  = ##### ここを書きましょう #####\n",
        "    b += eta * dHdb"
      ],
      "execution_count": null,
      "outputs": []
    },
    {
      "cell_type": "code",
      "metadata": {
        "id": "JDHsrMBT41PL"
      },
      "source": [
        "### データ生成関数\n",
        "#   2次元3クラス，N0, N1, N2 はクラスごとのサンプル数\n",
        "#\n",
        "def gendat3(N0, N1, N2):\n",
        "    \n",
        "    # クラス0\n",
        "    mu0 = np.array([0.0, 0.0])\n",
        "    cov0 = np.eye(2)\n",
        "    dat0 = np.random.multivariate_normal(mu0, cov0, size = N0)  #  N0 x 2\n",
        "    lab0 = np.zeros(N0, dtype = int)\n",
        "    \n",
        "    # クラス1\n",
        "    mu1 = np.array([3.0, -4.0])\n",
        "    cov1 = np.array([[0.875, 0.65],  [0.65, 1.625]])\n",
        "    dat1 = np.random.multivariate_normal(mu1, cov1, size = N1)  #  N1 x 2\n",
        "    lab1 = np.ones(N1, dtype = int)\n",
        "                    \n",
        "    # クラス2\n",
        "    mu2 = np.array([4.0, 3.0])\n",
        "    cov2 = np.array([[0.875, -0.65],  [-0.65, 1.625]])\n",
        "    dat2 = np.random.multivariate_normal(mu2, cov2, size = N2)  #  N2 x 2\n",
        "    lab2 = np.ones(N2, dtype = int) + 1\n",
        "    \n",
        "    dat = np.vstack((dat0, dat1, dat2))\n",
        "    lab = np.hstack((lab0, lab1, lab2))\n",
        "    \n",
        "    return dat, lab"
      ],
      "execution_count": null,
      "outputs": []
    },
    {
      "cell_type": "markdown",
      "metadata": {
        "id": "k1V60DWgrrz7"
      },
      "source": [
        "## データを生成して可視化"
      ]
    },
    {
      "cell_type": "code",
      "metadata": {
        "id": "lkaPr6pDsGFG"
      },
      "source": [
        "# 学習データの生成\n",
        "D = 2  # データの次元数\n",
        "K = 3  # クラス数\n",
        "datL, labL = gendat3(1000, 1000, 1000)\n",
        "nL = datL.shape[0]"
      ],
      "execution_count": null,
      "outputs": []
    },
    {
      "cell_type": "code",
      "metadata": {
        "id": "m5YhnDpq4zBa"
      },
      "source": [
        "# 学習データの散布図\n",
        "for k in range(K):\n",
        "    XX = datL[labL == k, :]\n",
        "    plt.scatter(XX[:, 0], XX[:, 1], s = 10)\n",
        "\n",
        "xmin, xmax = -8, 8\n",
        "ymin, ymax = -8, 8\n",
        "\n",
        "plt.xlim(xmin,xmax)\n",
        "plt.ylim(ymin,ymax)\n",
        "ax = plt.gca()\n",
        "ax.set_aspect('equal')\n",
        "plt.show()"
      ],
      "execution_count": null,
      "outputs": []
    },
    {
      "cell_type": "markdown",
      "metadata": {
        "id": "11KPE_K9swor"
      },
      "source": [
        "## 学習させる"
      ]
    },
    {
      "cell_type": "code",
      "metadata": {
        "id": "tD3468LXgfw2"
      },
      "source": [
        "# 教師信号の生成\n",
        "ZtL = np.zeros((nL, K))\n",
        "for k in range(K):\n",
        "    ZtL[labL == k, k] = 1.0\n",
        "\n",
        "# パラメータの初期化\n",
        "W = 0.01 * np.random.random((K, D))\n",
        "b = 0.01 * np.random.random(K)\n",
        "\n",
        "# 実験条件の設定\n",
        "nitr = 1000\n",
        "eta = 0.01\n",
        "batchsize = 64\n",
        "\n",
        "# 学習の繰り返し\n",
        "for i in range(nitr):\n",
        "    \n",
        "    # バッチの作成（ここでは毎回ランダムに選択）\n",
        "    idx = np.random.randint(nL, size = batchsize)\n",
        "    X = datL[idx, :]\n",
        "    Zt = ZtL[idx, :]\n",
        "    \n",
        "    # 出力の計算とパタメータの更新\n",
        "    Y, Z = model(X, W, b)\n",
        "    update(X, Z, Zt, W, b, eta)\n",
        "    \n",
        "    # 適当なタイミングで交差エントロピーと識別率を表示\n",
        "    if i < 10 or i % 50 == 0:\n",
        "        Y, Z = model(datL, W, b)\n",
        "        H = cross_entropy(Z, labL)\n",
        "        #H = cross_entropy2(Y, labL)\n",
        "        correct = np.sum(labL == np.argmax(Z, axis = 1))  # 正答数\n",
        "        print('{0} {1:.5f} {2:.3f}'.format(i, np.mean(H), correct / nL))"
      ],
      "execution_count": null,
      "outputs": []
    },
    {
      "cell_type": "markdown",
      "metadata": {
        "id": "Uk8FSktmszZD"
      },
      "source": [
        "## 事後確率を推定して可視化\n",
        "\n",
        "nitr を小さくすれば学習が収束する前の様子を眺められる"
      ]
    },
    {
      "cell_type": "code",
      "metadata": {
        "id": "6lEZ-HDUN2Oa"
      },
      "source": [
        "# 事後確率 p(y|x) の推定\n",
        "x, y = np.mgrid[xmin:xmax:0.05, ymin:ymax:0.05]\n",
        "X = np.dstack((x, y))\n",
        "npoint  = X.shape[0]\n",
        "X = np.vstack((x.reshape(-1), y.reshape(-1))).T\n",
        "Y, Z = model(X, W, b)\n",
        "P = Z.reshape((npoint, npoint, K))\n",
        "\n",
        "# 各点で P の和が 1 になるよう正規化\n",
        "P /= np.sum(P, axis = 2)[:, :, np.newaxis]"
      ],
      "execution_count": null,
      "outputs": []
    },
    {
      "cell_type": "code",
      "metadata": {
        "id": "GJD9wheIQHi6"
      },
      "source": [
        "# 事後確率の推定値を可視化\n",
        "\n",
        "# 散布図ではクラス 0 が B, クラス 1 が G, クラス 2 が R  ==> 画素値は 0番が R, 1番が G, 2番が B \n",
        "imgP = np.empty_like(P)\n",
        "imgP[:, :, 0] = P[:, :, 2]\n",
        "imgP[:, :, 1] = P[:, :, 1]\n",
        "imgP[:, :, 2] = P[:, :, 0]\n",
        "\n",
        "# P は axis 0 が X軸， axis 1 が Y軸\n",
        "imgP2 = np.transpose(imgP, axes = [1, 0, 2])\n",
        "# 画像として表示する際は縦軸をひっくり返す必要あり\n",
        "img = imgP2[::-1, :, :]\n",
        "plt.imshow(img)"
      ],
      "execution_count": null,
      "outputs": []
    },
    {
      "cell_type": "code",
      "metadata": {
        "id": "JoX7F3UzvIdE"
      },
      "source": [
        ""
      ],
      "execution_count": null,
      "outputs": []
    }
  ]
}