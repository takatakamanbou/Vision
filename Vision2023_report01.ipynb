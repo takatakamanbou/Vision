{
  "nbformat": 4,
  "nbformat_minor": 0,
  "metadata": {
    "colab": {
      "provenance": [],
      "toc_visible": true,
      "authorship_tag": "ABX9TyMCOaCM7W4Htfe1A2ABC0/m",
      "include_colab_link": true
    },
    "kernelspec": {
      "name": "python3",
      "display_name": "Python 3"
    }
  },
  "cells": [
    {
      "cell_type": "markdown",
      "metadata": {
        "id": "view-in-github",
        "colab_type": "text"
      },
      "source": [
        "<a href=\"https://colab.research.google.com/github/takatakamanbou/Vision/blob/main/Vision2023_report01.ipynb\" target=\"_parent\"><img src=\"https://colab.research.google.com/assets/colab-badge.svg\" alt=\"Open In Colab\"/></a>"
      ]
    },
    {
      "cell_type": "markdown",
      "metadata": {
        "id": "9dZcF12ojSrJ"
      },
      "source": [
        "# Vision2023-report01"
      ]
    },
    {
      "cell_type": "markdown",
      "metadata": {
        "id": "SrIIY0RtpBYO"
      },
      "source": [
        "課題の期限や提出の方法などについては，別途お知らせしています"
      ]
    },
    {
      "cell_type": "markdown",
      "metadata": {
        "id": "ZSx7Ng2FkdUB"
      },
      "source": [
        "## 準備"
      ]
    },
    {
      "cell_type": "code",
      "metadata": {
        "id": "BXtjmCk3jNaH"
      },
      "source": [
        "import numpy as np\n",
        "import matplotlib.pyplot as plt\n",
        "import seaborn\n",
        "seaborn.set()"
      ],
      "execution_count": null,
      "outputs": []
    },
    {
      "cell_type": "code",
      "metadata": {
        "id": "vWqOMDomqzCj"
      },
      "source": [
        "### データを生成する関数\n",
        "#\n",
        "def generateData(N, true_data=False, seed=None, sigma=0.0):\n",
        "\n",
        "    if true_data:\n",
        "        x = np.linspace(-0.1, 1.1, num=N)\n",
        "        y = np.sin(2*np.pi*x) + 1\n",
        "    else:\n",
        "        # 乱数生成器\n",
        "        rng = np.random.default_rng(seed)\n",
        "        x = rng.uniform(0.0, 1.0, N)\n",
        "        #x = np.linspace(0.0, 1.0, num=N)\n",
        "        y = np.sin(2*np.pi*x) + 1 + sigma*rng.standard_normal(N)\n",
        "\n",
        "    return x, y"
      ],
      "execution_count": null,
      "outputs": []
    },
    {
      "cell_type": "markdown",
      "source": [
        "上のセルを実行すると，\n",
        "$$\n",
        "y_n = \\sin(2\\pi x_n) + 1 + \\varepsilon_n\n",
        "$$\n",
        "という式にもとづいてデータ $(x_1, y_1), (x_2, y_2), \\ldots, (x_N, y_N)$ が生成されます．$\\varepsilon_n$ は，平均 $0$ 標準偏差 `sigma` の正規乱数です．\n",
        "\n",
        "次のセルを実行するとデータをグラフに描きます．実行するたびに乱数の値が変わりますので，何度か実行してみましょう．"
      ],
      "metadata": {
        "id": "QqMx5mxFsAOH"
      }
    },
    {
      "cell_type": "code",
      "source": [
        "x_true, y_true  = generateData(1000, true_data=True)\n",
        "x_noisy, y_noisy = generateData(30, sigma=0.1)\n",
        "fig, ax = plt.subplots()\n",
        "ax.set_xlim(-0.1, 1.1)\n",
        "ax.set_ylim(-0.2, 2.2)\n",
        "ax.plot(x_true, y_true, color='blue', label='true function')\n",
        "ax.scatter(x_noisy, y_noisy, color='red', label='noisy data')\n",
        "ax.legend()\n",
        "plt.show()"
      ],
      "metadata": {
        "id": "BM6dDRG2ro_M"
      },
      "execution_count": null,
      "outputs": []
    },
    {
      "cell_type": "code",
      "source": [
        "##### 1, x, x^2, x^3, ..., x^D をならべたデータ行列（N x (D+1)）をつくる\n",
        "#\n",
        "def makeDataMatrix(x, D):\n",
        "\n",
        "    N = x.shape[0]\n",
        "    X = np.zeros((N, D+1))\n",
        "    X[:, 0] = 1\n",
        "    for d in range(1, D+1):\n",
        "        X[:, d] = x**d\n",
        "\n",
        "    return X"
      ],
      "metadata": {
        "id": "qUzaA81BQ0Zs"
      },
      "execution_count": null,
      "outputs": []
    },
    {
      "cell_type": "code",
      "source": [
        "### 線形回帰\n",
        "#\n",
        "def LinearRegression(X, y):\n",
        "    # 正規方程式の左辺の行列を A とする\n",
        "    A = 0\n",
        "    # 正規方程式の右辺のベクトルを b とする\n",
        "    b = 0\n",
        "    # np.linalg.solve を使って正規方程式を解き，解を w とする\n",
        "    w = 0\n",
        "    return w"
      ],
      "metadata": {
        "id": "eTP69N9F_dvA"
      },
      "execution_count": null,
      "outputs": []
    },
    {
      "cell_type": "code",
      "source": [
        "### リッジ回帰\n",
        "#\n",
        "def RidgeRegression(X, y, lam):\n",
        "    # 正規方程式の左辺の行列を A とする\n",
        "    eyet = np.ones(X.shape[1])\n",
        "    eyet[0] = 0.0\n",
        "    A = lam * np.diag(eyet)\n",
        "    # 正規方程式の右辺のベクトルを XTY とする\n",
        "    b = 0\n",
        "    # np.linalg.solve を使って正規方程式を解き，解を w とする\n",
        "    w = 0\n",
        "    return w"
      ],
      "metadata": {
        "id": "E4Oy1GZL9imE"
      },
      "execution_count": null,
      "outputs": []
    },
    {
      "cell_type": "markdown",
      "source": [
        "## 問題1\n",
        "\n",
        "(1) 関数 `LinearRegression` の中身を，コメントに従って正しく動作するように修正しなさい．\n",
        "\n",
        "(2) 次のセルを実行すると，最小二乗法を用いて学習データに `D` 次多項式を当てはめ，学習データとテストデータに対する予測誤差の値を出力するように修正しなさい．\n",
        "\n",
        "(3) 次の次のセルを実行すると，多項式当てはめの結果をグラフに描画します．`D` の値をいろいろ変えて何度も実行して結果を観察し，考察を述べなさい（考察は，グラフの下のセルに書くこと）．"
      ],
      "metadata": {
        "id": "jbRiAUK0rUS2"
      }
    },
    {
      "cell_type": "code",
      "source": [
        "# 実験条件\n",
        "NL, NT = 30, 1000 # 学習データ数，テストデータ数\n",
        "sig = 0.1 # ノイズの標準偏差\n",
        "D = 3 # 多項式次数\n",
        "\n",
        "# 学習データの生成\n",
        "xL, yL = generateData(NL, sigma=sig)\n",
        "XL = makeDataMatrix(xL, D)\n",
        "\n",
        "# 線形回帰\n",
        "w = LinearRegression(XL, yL)\n",
        "\n",
        "# 予測値とその平均二乗誤差の計算 (L)\n",
        "yL_est = XL @ w\n",
        "msqeL = 0 # ここを修正\n",
        "\n",
        "# テストデータの生成\n",
        "xT, yT = generateData(NT, sigma=sig)\n",
        "XT = makeDataMatrix(xT, D)\n",
        "\n",
        "# 予測値とその平均二乗誤差の計算 (T)\n",
        "#  ここを修正\n",
        "#  ここを修正\n",
        "\n",
        "print(f'D = {D}, msqeL = {msqeL:.5f}, msqeT = {msqeT:.5f}')"
      ],
      "metadata": {
        "id": "L6gpPdqB6-Jg"
      },
      "execution_count": null,
      "outputs": []
    },
    {
      "cell_type": "code",
      "source": [
        "# 真の曲線を描くためのデータ\n",
        "x_true, y_true = generateData(1000, true_data=True)\n",
        "X_true = makeDataMatrix(x_true, D)\n",
        "y_est = X_true @ w\n",
        "\n",
        "# グラフを描く\n",
        "fig, ax = plt.subplots()\n",
        "ax.set_xlim(-0.1, 1.1)\n",
        "ax.set_ylim(-0.2, 2.2)\n",
        "ax.plot(x_true, y_true, color='blue', label='true function')\n",
        "ax.scatter(xL, yL, color='red', label='training data')\n",
        "ax.plot(x_true, y_est, color='green', label='fitted curve')\n",
        "ax.legend()\n",
        "plt.show()"
      ],
      "metadata": {
        "id": "xCATqT8Ntxvx"
      },
      "execution_count": null,
      "outputs": []
    },
    {
      "cell_type": "markdown",
      "source": [
        "【このセルを修正して考察を書いてね】\n",
        "\n",
        "ほげほげ"
      ],
      "metadata": {
        "id": "8wY3bpnywqfR"
      }
    },
    {
      "cell_type": "markdown",
      "source": [
        "## 問題2\n",
        "\n",
        "(1) 次のセルを実行すると，次のことを行います．\n",
        "\n",
        "1. 様々な `D` の値に対して，`Ntrial` 通りのデータを生成してそれぞれに `D` 次多項式を当てはめる．\n",
        "1. それらの学習データとテストデータの予測値の平均二乗誤差を算出する．\n",
        "1. 各 `D` について得られた `Ntrial` 通りの平均二乗誤差の平均を算出し，出力する\n",
        "1. 各 `D` について得られた `Ntrial` 通りの平均二乗誤差の箱ひげ図を描く．\n",
        "\n",
        "コード中のコメントにしたがって，正しく動作するように修正しなさい．\n",
        "\n",
        "(2) 実行結果を観察し，考察を述べなさい（考察は，グラフの下のセルに書くこと）．なお，このコードでは，データに含まれるノイズを生成するために使われる乱数の種を指定しているので，何度実行しても同じ結果が得られます．"
      ],
      "metadata": {
        "id": "5xgMaAZIxBkX"
      }
    },
    {
      "cell_type": "code",
      "source": [
        "# 実験条件\n",
        "Dlist = [2, 3, 4, 5, 6, 7, 8, 9, 10] # 多項式次数\n",
        "Ntrial = 100 # 試行回数\n",
        "NL, NT = 30, 1000 # 学習データ数，テストデータ数\n",
        "\n",
        "msqeL = np.zeros((len(Dlist), Ntrial))\n",
        "msqeT = np.zeros((len(Dlist), Ntrial))\n",
        "\n",
        "for i, D in enumerate(Dlist):\n",
        "\n",
        "    for n in range(Ntrial):\n",
        "\n",
        "        # 学習データの生成\n",
        "        #   同じデータに対して条件を変えながら実験を繰り返すために乱数の種を指定している\n",
        "        xL, yL = generateData(NL, sigma=0.1, seed=2*n)\n",
        "        XL = makeDataMatrix(xL, D)\n",
        "\n",
        "        # 線形回帰\n",
        "        w = LinearRegression(XL, yL)\n",
        "\n",
        "        # 予測値とその平均二乗誤差の計算 (L)\n",
        "        yL_est = XL @ w\n",
        "        msqeL[i, n] = 0 # ここを修正\n",
        "\n",
        "        # テストデータの生成\n",
        "        xT, yT = generateData(NT, sigma=0.1, seed=2*n+1)\n",
        "        XT = makeDataMatrix(xT, D)\n",
        "\n",
        "        # 予測値とその平均二乗誤差の計算 (T)\n",
        "        #  ここを修正\n",
        "        #  ここを修正\n",
        "\n",
        "    eL, eT = np.mean(msqeL[i, :]), np.mean(msqeT[i, :])\n",
        "    print(f'# D = {D}, msqeL = {eL:.4g}, msqeT = {eT:.4g}')\n",
        "\n",
        "# グラフを描く\n",
        "fig, ax = plt.subplots(1, 2, figsize=(8, 4))\n",
        "ax[0].boxplot(msqeL.T)\n",
        "ax[0].set_xticklabels(Dlist)\n",
        "ax[0].set_ylim(0, 0.1)\n",
        "ax[0].set_xlabel('D')\n",
        "ax[0].set_title('msqeL')\n",
        "ax[1].boxplot(msqeT.T)\n",
        "ax[1].set_xticklabels(Dlist)\n",
        "ax[1].set_ylim(0, 0.1)\n",
        "ax[1].set_xlabel('D')\n",
        "ax[1].set_title('msqeT')\n",
        "plt.show()"
      ],
      "metadata": {
        "id": "br8fj8XYvruC"
      },
      "execution_count": null,
      "outputs": []
    },
    {
      "cell_type": "markdown",
      "source": [
        "【このセルを修正して考察を書いてね】\n",
        "\n",
        "ほげほげ"
      ],
      "metadata": {
        "id": "8cIl8aBo1uBc"
      }
    },
    {
      "cell_type": "markdown",
      "source": [
        "## 問題3\n",
        "\n",
        "(1) 関数 `RidgeRegression` の中身を，コメントに従って正しく動作するように修正しなさい．\n",
        "\n",
        "(2) 問題1の２つのコードセルを以下にコピー＆ペーストし， リッジ回帰の実験が行えるように修正しなさい．\n",
        "\n",
        "(3) `D = 10` として `lam` を `0.0, 0.001, 0.1` の三通りで変えながら何度か実行して結果を観察しなさい．考察を述べなさい（考察は，グラフの下のセルに書くこと）"
      ],
      "metadata": {
        "id": "LvVuCtmp0V9j"
      }
    },
    {
      "cell_type": "code",
      "source": [],
      "metadata": {
        "id": "oswrfV4n595c"
      },
      "execution_count": null,
      "outputs": []
    },
    {
      "cell_type": "code",
      "source": [],
      "metadata": {
        "id": "XCKXlRWA5-RJ"
      },
      "execution_count": null,
      "outputs": []
    },
    {
      "cell_type": "markdown",
      "source": [
        "【このセルを修正して考察を書いてね】\n",
        "\n",
        "ほげほげ"
      ],
      "metadata": {
        "id": "oBRRUpY_1xKz"
      }
    },
    {
      "cell_type": "markdown",
      "source": [
        "## 問題4\n",
        "\n",
        "(1) 次のセルを実行すると，問題2と同様の実験を，\n",
        "\n",
        "- 線形回帰の代わりにリッジ回帰で\n",
        "- 多項式次数 `D` を変える代わりに正則化パラメータ `lam` を変えて\n",
        "\n",
        "行えるようにしたい．次のセルの中身を書き足しなさい．\n",
        "\n",
        "(2) 実行結果を観察し，考察を述べなさい（考察は，グラフの下のセルに書くこと）．"
      ],
      "metadata": {
        "id": "z6D_wHsh2mPH"
      }
    },
    {
      "cell_type": "code",
      "source": [
        "# 実験条件\n",
        "lamlist = [0.0, 0.0001, 0.001, 0.01, 0.1] # 正則化パラメータ\n",
        "Ntrial = 100 # 試行回数\n",
        "NL, NT = 30, 1000 # 学習データ数，テストデータ数\n",
        "D = 10\n",
        "\n",
        "msqeL = np.zeros((len(lamlist), Ntrial))\n",
        "msqeT = np.zeros((len(lamlist), Ntrial))\n",
        "\n",
        "# つづきを書く\n"
      ],
      "metadata": {
        "id": "wHRE3qwe2mBh"
      },
      "execution_count": null,
      "outputs": []
    },
    {
      "cell_type": "code",
      "source": [
        "fig, ax = plt.subplots(1, 2, figsize=(8, 4))\n",
        "ax[0].boxplot(msqeL.T)\n",
        "ax[0].set_xticklabels(lamlist)\n",
        "ax[0].set_ylim(0, 0.1)\n",
        "ax[0].set_xlabel('lam')\n",
        "ax[0].set_title('msqeL')\n",
        "ax[1].boxplot(msqeT.T)\n",
        "ax[1].set_xticklabels(lamlist)\n",
        "ax[1].set_ylim(0, 0.1)\n",
        "ax[1].set_xlabel('lam')\n",
        "ax[1].set_title('msqeT')\n",
        "plt.show()"
      ],
      "metadata": {
        "id": "VsCbO0VF2kLD"
      },
      "execution_count": null,
      "outputs": []
    },
    {
      "cell_type": "markdown",
      "source": [
        "【このセルを修正して考察を書いてね】\n",
        "\n",
        "ほげほげ"
      ],
      "metadata": {
        "id": "xdjhs_rC49rA"
      }
    }
  ]
}