{
  "nbformat": 4,
  "nbformat_minor": 0,
  "metadata": {
    "colab": {
      "name": "Vision2021-lec05.ipynb",
      "provenance": [],
      "collapsed_sections": [],
      "include_colab_link": true
    },
    "kernelspec": {
      "name": "python3",
      "display_name": "Python 3"
    }
  },
  "cells": [
    {
      "cell_type": "markdown",
      "metadata": {
        "id": "view-in-github",
        "colab_type": "text"
      },
      "source": [
        "<a href=\"https://colab.research.google.com/github/takatakamanbou/Vision/blob/main/Vision2021_lec05.ipynb\" target=\"_parent\"><img src=\"https://colab.research.google.com/assets/colab-badge.svg\" alt=\"Open In Colab\"/></a>"
      ]
    },
    {
      "cell_type": "markdown",
      "metadata": {
        "id": "NI3mY1FGZWgV"
      },
      "source": [
        "# 1次元パターンに正規分布をあてはめて識別する\n",
        "\n",
        "![hoge](https://www-tlab.math.ryukoku.ac.jp/~takataka/course/Vision/Vision-logo-96x96.png)"
      ]
    },
    {
      "cell_type": "markdown",
      "metadata": {
        "id": "L2ajEMYLWlhT"
      },
      "source": [
        "## 準備"
      ]
    },
    {
      "cell_type": "code",
      "metadata": {
        "id": "E13UrMaqWnFB"
      },
      "source": [
        "import numpy as np\n",
        "import matplotlib.pyplot as plt\n",
        "import seaborn\n",
        "seaborn.set()"
      ],
      "execution_count": null,
      "outputs": []
    },
    {
      "cell_type": "markdown",
      "metadata": {
        "id": "eXNmkfe8V-Qb"
      },
      "source": [
        "## （1次元の）正規分布"
      ]
    },
    {
      "cell_type": "markdown",
      "metadata": {
        "id": "fcPNZXjzWL8B"
      },
      "source": [
        "正規分布の確率密度関数\n",
        "$$ p(x) = \\frac{1}{\\sqrt{2\\pi\\sigma^2}}\\exp\\left(-\\frac{(x-\\mu)^2}{2\\sigma^2}\\right) $$"
      ]
    },
    {
      "cell_type": "markdown",
      "metadata": {
        "id": "5t6WgZ3lZfVl"
      },
      "source": [
        "上記に相当する関数 Gaussian1 を定義．自分で式を書いても大したことないが，ここでは\n",
        "SciPy の関数 norm を利用: https://docs.scipy.org/doc/scipy/reference/generated/scipy.stats.norm.html#scipy.stats.norm"
      ]
    },
    {
      "cell_type": "code",
      "metadata": {
        "id": "3zqAFWAnZMf1"
      },
      "source": [
        "from scipy.stats import norm\n",
        "\n",
        "def Gaussian1(x, mu, sigma2):\n",
        "    return norm.pdf(x, loc = mu, scale = np.sqrt(sigma2))"
      ],
      "execution_count": null,
      "outputs": []
    },
    {
      "cell_type": "markdown",
      "metadata": {
        "id": "KVx1dHxHaXdP"
      },
      "source": [
        "正規分布の確率密度関数を描画"
      ]
    },
    {
      "cell_type": "code",
      "metadata": {
        "id": "rkrs311NW0Hm"
      },
      "source": [
        "x = np.linspace(-5,5, num = 100)\n",
        "fig, ax = plt.subplots(facecolor=\"white\", figsize=(8, 6))\n",
        "mu, sig2 = 0.0, 1.0\n",
        "ax.plot(x, Gaussian1(x, mu, sig2), '-', label = '$\\mu = {0}, \\sigma^2 = {1}$'.format(mu, sig2))\n",
        "mu, sig2 = 2.0, 0.5\n",
        "ax.plot(x, Gaussian1(x, mu, sig2), '-', label = '$\\mu = {0}, \\sigma^2 = {1}$'.format(mu, sig2))\n",
        "mu, sig2 = -2.0, 2.0\n",
        "ax.plot(x, Gaussian1(x, mu, sig2), '-', label = '$\\mu = {0}, \\sigma^2 = {1}$'.format(mu, sig2))\n",
        "ax.set_xlim(-5, 5)\n",
        "ax.legend()\n",
        "plt.show()"
      ],
      "execution_count": null,
      "outputs": []
    },
    {
      "cell_type": "markdown",
      "metadata": {
        "id": "xvqKSwem9f4a"
      },
      "source": [
        "## 2クラス識別の例\n",
        "\n",
        "- 2つのクラス（$y = 0, 1$ と表すことにする）の識別．\n",
        "- 事前確率: $p(y=0) = 1-\\alpha,~ p(y=1) = \\alpha$\n",
        "- クラス0 の分布: $p(x|y=0)$ は平均 $0$ 分散 1 の正規分布\n",
        "- クラス1 の分布: $p(x|y=1)$ は平均 $3$ 分散 2 の正規分布"
      ]
    },
    {
      "cell_type": "markdown",
      "metadata": {
        "id": "QTW97IJg_5sV"
      },
      "source": [
        "### クラスごとの分布"
      ]
    },
    {
      "cell_type": "code",
      "metadata": {
        "id": "Ls-8RPqk9Y6u"
      },
      "source": [
        "x = np.linspace(-3,7, num = 100)\n",
        "fig, ax = plt.subplots(facecolor=\"white\", figsize=(8, 6))\n",
        "ax.plot(x, Gaussian1(x, 0, 1), '-', label = 'class 0', color='red')\n",
        "ax.plot(x, Gaussian1(x, 3, 2), '-', label = 'class 1', color='blue')\n",
        "ax.set_xlim(-3, 7)\n",
        "ax.legend()\n",
        "plt.show()"
      ],
      "execution_count": null,
      "outputs": []
    },
    {
      "cell_type": "markdown",
      "metadata": {
        "id": "OToWd4pH__c9"
      },
      "source": [
        "### $\\alpha$ をいろいろ変えて実験"
      ]
    },
    {
      "cell_type": "code",
      "metadata": {
        "id": "tDx0raCjAKGF"
      },
      "source": [
        "#@title $p(y=1) = \\alpha$ を変化させてみよう\n",
        "alpha = 0.2 #@param {type:\"slider\", min:0, max:1.0, step:0.1}\n",
        "\n",
        "x = np.linspace(-3,7, num = 100)\n",
        "\n",
        "# p(x)\n",
        "px = (1-alpha) * Gaussian1(x, 0, 1) + alpha * Gaussian1(x, 3, 2)\n",
        "\n",
        "# p(y=1) x p(x|y=1)\n",
        "px1 = alpha * Gaussian1(x, 3, 2)\n",
        "\n",
        "# p(y=1|x) = ( p(y=1) x p(x|y=1) ) / p(x)\n",
        "py = px1 / px\n",
        "\n",
        "# plot\n",
        "fig, (ax0, ax1, ax2) = plt.subplots(3, facecolor=\"white\", figsize=(8, 12))\n",
        "ax0.plot(x, px, '-', label = '$p(x)$')\n",
        "ax0.set_xlim(-3, 7)\n",
        "ax0.legend()\n",
        "ax1.plot(x, px1, '-', label = '$p(y=1)p(x|y=1)$')\n",
        "ax1.set_xlim(-3, 7)\n",
        "ax1.legend()\n",
        "ax2.plot(x, Gaussian1(x, 0, 1), '-', label = 'class 0', color='red')\n",
        "ax2.plot(x, Gaussian1(x, 3, 2), '-', label = 'class 1', color='blue')\n",
        "ax2.plot(x, py, '-', label = '$p(y=1)$')\n",
        "ax2.set_xlim(-3, 7)\n",
        "ax2.legend()\n",
        "plt.show()"
      ],
      "execution_count": null,
      "outputs": []
    },
    {
      "cell_type": "code",
      "metadata": {
        "id": "ksBGl6tPdCV5"
      },
      "source": [
        ""
      ],
      "execution_count": null,
      "outputs": []
    }
  ]
}