{
  "nbformat": 4,
  "nbformat_minor": 0,
  "metadata": {
    "colab": {
      "name": "Vision2022-ex03.ipynb",
      "provenance": [],
      "collapsed_sections": [],
      "toc_visible": true,
      "authorship_tag": "ABX9TyPFbWvELRM2QLYuPLlX0F+U",
      "include_colab_link": true
    },
    "kernelspec": {
      "name": "python3",
      "display_name": "Python 3"
    }
  },
  "cells": [
    {
      "cell_type": "markdown",
      "metadata": {
        "id": "view-in-github",
        "colab_type": "text"
      },
      "source": [
        "<a href=\"https://colab.research.google.com/github/takatakamanbou/Vision/blob/main/Vision2022_ex03.ipynb\" target=\"_parent\"><img src=\"https://colab.research.google.com/assets/colab-badge.svg\" alt=\"Open In Colab\"/></a>"
      ]
    },
    {
      "cell_type": "markdown",
      "metadata": {
        "id": "9dZcF12ojSrJ"
      },
      "source": [
        "# Vision2022-ex03"
      ]
    },
    {
      "cell_type": "markdown",
      "metadata": {
        "id": "SrIIY0RtpBYO"
      },
      "source": [
        "課題の期限や提出の方法などについては，Visionチーム内に書いてます．"
      ]
    },
    {
      "cell_type": "markdown",
      "metadata": {
        "id": "ZSx7Ng2FkdUB"
      },
      "source": [
        "## 準備"
      ]
    },
    {
      "cell_type": "code",
      "metadata": {
        "id": "BXtjmCk3jNaH"
      },
      "source": [
        "import numpy as np\n",
        "import matplotlib.pyplot as plt\n",
        "import cv2\n",
        "import os"
      ],
      "execution_count": null,
      "outputs": []
    },
    {
      "cell_type": "markdown",
      "metadata": {
        "id": "eqGMEk2-VsgI"
      },
      "source": [
        "データの読み込み．\n",
        "1. 以下の wget のところに書く URL を Vision チームの方で確認し，「ここに書く...」を削除してその URL を書く\n",
        "1. 以下のセルを実行\n"
      ]
    },
    {
      "cell_type": "code",
      "metadata": {
        "id": "zd9VnEQRjtgq"
      },
      "source": [
        "fnNPZ = 'sjs-cfw.npz'\n",
        "\n",
        "#from google.colab import files\n",
        "#uploaded = files.upload()\n",
        "\n",
        "if not os.path.exists(fnNPZ):\n",
        "    !wget   ここに書く URL は Vision チームの方でお知らせします\n",
        "    !ls"
      ],
      "execution_count": null,
      "outputs": []
    },
    {
      "cell_type": "markdown",
      "metadata": {
        "id": "_XJU8JuNASOS"
      },
      "source": [
        "入手したファイルを np.load して，変数 XL, YL, XT, YT に代入．それぞれの意味は以下のコメント参照．\n",
        "\n",
        "**ここでダウンロードしているデータは，この授業の活動以外の目的で使用してはいけません．上記の URL を他人に教えることも禁止です．**"
      ]
    },
    {
      "cell_type": "code",
      "metadata": {
        "id": "n7H13e8S_aGJ"
      },
      "source": [
        "rv = np.load(fnNPZ)\n",
        "XL = rv['datL']  # 学習データ（入力）\n",
        "YL = rv['labL']  # そのクラスラベル\n",
        "XT = rv['datT']  # テストデータ（入力）\n",
        "YT = rv['labT']  # そのクラスラベル\n",
        "\n",
        "print(XL.shape, XL.dtype)\n",
        "print(YL.shape, YL.dtype)\n",
        "print(XT.shape, XT.dtype)\n",
        "print(YT.shape, YT.dtype)\n",
        "\n",
        "NL, D = XL.shape  # 学習データ数，データの次元数\n",
        "NT = XT.shape[0]  # テストデータ数\n",
        "K = 3  # クラスの数"
      ],
      "execution_count": null,
      "outputs": []
    },
    {
      "cell_type": "markdown",
      "metadata": {
        "id": "DoMvFyBQT-nQ"
      },
      "source": [
        "↑ XLのデータ数は 700, 次元数は 36000 （高さ120, 幅100のRGBカラー画像），データ型は64bit浮動小数点数（本来の画素値は [0, 255] の整数だが，255 で割って [0, 1] となっている）．\n",
        "YL は，0, 1, 2 の3通りのクラスラベル．0が猫，1が女性，2が男性．"
      ]
    },
    {
      "cell_type": "code",
      "metadata": {
        "id": "TIqIEdiKVWSS"
      },
      "source": [
        "print(np.sum(YL == 0), np.sum(YL == 1), np.sum(YL == 2))\n",
        "print(np.sum(YT == 0), np.sum(YT == 1), np.sum(YT == 2))"
      ],
      "execution_count": null,
      "outputs": []
    },
    {
      "cell_type": "markdown",
      "metadata": {
        "id": "YvbIjMByVbQI"
      },
      "source": [
        "↑ それぞれのクラスに属するデータの数"
      ]
    },
    {
      "cell_type": "markdown",
      "metadata": {
        "id": "3E0uMFwCZkBr"
      },
      "source": [
        "以下のセルを実行すると，クラスラベルが 0 の学習データのうち，最後のものを，hoge.png という名前のファイルとしてダウンロードできる，どんなものか確認しよう．また，クラスラベル 1, 2 でも試そう．"
      ]
    },
    {
      "cell_type": "code",
      "metadata": {
        "id": "BIFQAYLpW5vn"
      },
      "source": [
        "x = XL[YL == 0, :][-1, :]  # ラベルが 0 の学習データの末尾\n",
        "img = (x.reshape((120, 100, 3))*255).astype(int)  # shape を (120, 100, 3) に変えて int 型に変換\n",
        "print(x.shape, img.shape)\n",
        "\n",
        "cv2.imwrite('hoge.png', img)  # hoge.png という名前で保存\n",
        "!ls -l hoge.png\n",
        "\n",
        "# それをダウンロード\n",
        "from google.colab import files\n",
        "files.download('hoge.png')"
      ],
      "execution_count": null,
      "outputs": []
    },
    {
      "cell_type": "markdown",
      "metadata": {
        "id": "M6wk0zlylJPt"
      },
      "source": [
        "## 課題A\n",
        "\n"
      ]
    },
    {
      "cell_type": "code",
      "metadata": {
        "id": "RzU58z-6lSMX"
      },
      "source": [
        "x0 = XL[YL == 0, :][-1, :]  # ラベルが 0 の学習データの最後\n",
        "x1 = XL[YL == 1, :][-1, :]  # ラベルが 1 の学習データの最後\n",
        "x2 = XL[YL == 2, :][-1, :]  # ラベルが 2 の学習データの最後\n",
        "print(x0.shape, x1.shape, x2.shape)"
      ],
      "execution_count": null,
      "outputs": []
    },
    {
      "cell_type": "markdown",
      "metadata": {
        "id": "NjQeHOmhblF_"
      },
      "source": [
        "以下のセルに，以下の3つの距離を求めて print するコードを書きなさい．\n",
        "- x0 と x1 の距離の二乗\n",
        "- x0 と x2 の距離の二乗\n",
        "- x1 と x2 の距離の二乗"
      ]
    },
    {
      "cell_type": "code",
      "metadata": {
        "id": "_S-ebk07lWth"
      },
      "source": [
        "### ここに上記のコードを書く（複数セルに分けたければ適当にどぞ）\n"
      ],
      "execution_count": null,
      "outputs": []
    },
    {
      "cell_type": "markdown",
      "metadata": {
        "id": "3D104lCecLlo"
      },
      "source": [
        "上記セルに書いたコードと，得られた距離の値を報告しなさい．"
      ]
    },
    {
      "cell_type": "markdown",
      "metadata": {
        "id": "bVig4szUoayG"
      },
      "source": [
        "## 課題B\n",
        "\n"
      ]
    },
    {
      "cell_type": "markdown",
      "metadata": {
        "id": "jNFJ0vQrce_1"
      },
      "source": [
        "学習データについて，次の処理を行うコードを書きなさい．この課題については， scikit-learn などの機械学習ライブラリは使ってはいけません（NumPyなどの数値計算ライブラリは使ってかまいません）．\n",
        "- 全学習データの平均ベクトルを求める\n",
        "- クラスラベルが 0, 1, 2 のものそれぞれの平均ベクトルを求める\n",
        "- 得られた平均ベクトルを画像として保存する"
      ]
    },
    {
      "cell_type": "code",
      "metadata": {
        "id": "cUjBtohNoeB_"
      },
      "source": [
        "### ここに上記のコードを書く（複数セルに分けたければ適当にどぞ）\n"
      ],
      "execution_count": null,
      "outputs": []
    },
    {
      "cell_type": "markdown",
      "metadata": {
        "id": "aEguswA6ejdy"
      },
      "source": [
        "上記セルにコードを書いて実行した結果を示してください．また，**得られた画像を高橋あて Teams チャットで送信してください．**\n"
      ]
    },
    {
      "cell_type": "markdown",
      "metadata": {
        "id": "95N9Ray9sr7z"
      },
      "source": [
        "## 課題C\n",
        "\n",
        "学習データのクラスごとの平均をプロトタイプとして，最短距離法による識別を行う実験をしよう．次のものを計算し出力するコードを作ること．実験とその結果に関する考察も添えてください（考察については，テキストセルを追加して書き込む等したらよいでしょう）．\n",
        "- 全学習データのうち，誤識別したものの数，誤識別率（その割合，%で）\n",
        "- テストデータについて，学習データと同様の値\n",
        "- （余裕があれば）クラスごとに，同様の値\n",
        "\n",
        "この課題については， scikit-learn などの機械学習ライブラリは使ってはいけません（NumPyなどの数値計算ライブラリは使ってかまいません）．\n"
      ]
    },
    {
      "cell_type": "code",
      "metadata": {
        "id": "YRSWW9hFfdSg"
      },
      "source": [
        "### ここに上記のコードを書く（複数セルに分けたければ適当にどぞ）\n"
      ],
      "execution_count": null,
      "outputs": []
    },
    {
      "cell_type": "markdown",
      "metadata": {
        "id": "ukWSSNjAizy_"
      },
      "source": [
        "## 課題D\n",
        "\n",
        "$k = 1$ のk-Nearest Neighbors法で識別を行う実験をしよう．\n",
        "この課題については， scikit-learn などの機械学習ライブラリを使っても使わなくても構いません．\n",
        "\n",
        "課題Cと同様の値を計算・出力するコードを作ること．実験とその結果に関する考察も添えてください．また，この実験では，学習データに対する識別率を求める必要はありません．なぜ必要ないか理由を考えてそれを説明してください．\n",
        "\n",
        "\n"
      ]
    },
    {
      "cell_type": "code",
      "metadata": {
        "id": "urI7OeCWfgdF"
      },
      "source": [
        "### ここに上記のコードを書く（複数セルに分けたければ適当にどぞ）\n"
      ],
      "execution_count": null,
      "outputs": []
    }
  ]
}