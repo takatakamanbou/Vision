{
  "nbformat": 4,
  "nbformat_minor": 0,
  "metadata": {
    "colab": {
      "name": "Vision2022-ex04b.ipynb",
      "provenance": [],
      "collapsed_sections": [],
      "include_colab_link": true
    },
    "kernelspec": {
      "name": "python3",
      "display_name": "Python 3"
    }
  },
  "cells": [
    {
      "cell_type": "markdown",
      "metadata": {
        "id": "view-in-github",
        "colab_type": "text"
      },
      "source": [
        "<a href=\"https://colab.research.google.com/github/takatakamanbou/Vision/blob/main/Vision2022_ex04b.ipynb\" target=\"_parent\"><img src=\"https://colab.research.google.com/assets/colab-badge.svg\" alt=\"Open In Colab\"/></a>"
      ]
    },
    {
      "cell_type": "markdown",
      "metadata": {
        "id": "DDBFFtt8-EUa"
      },
      "source": [
        "# Vision2022-ex04b\n",
        "\n",
        "課題の期限や提出の方法などについては，Visionチーム内に書いてます．"
      ]
    },
    {
      "cell_type": "markdown",
      "metadata": {
        "id": "NI3mY1FGZWgV"
      },
      "source": [
        "# 手書き数字画像のロジスティック回帰\n",
        "\n"
      ]
    },
    {
      "cell_type": "markdown",
      "metadata": {
        "id": "L2ajEMYLWlhT"
      },
      "source": [
        "## 準備"
      ]
    },
    {
      "cell_type": "code",
      "metadata": {
        "id": "E13UrMaqWnFB"
      },
      "source": [
        "import numpy as np\n",
        "import scipy as sp\n",
        "#from scipy.misc import logsumexp     # for older SciPy \n",
        "from scipy.special import logsumexp     # for scipy.misc.logsumexp\n",
        "import matplotlib.pyplot as plt\n",
        "import seaborn\n",
        "seaborn.set()"
      ],
      "execution_count": null,
      "outputs": []
    },
    {
      "cell_type": "markdown",
      "metadata": {
        "id": "Xxu3xUj4xN0j"
      },
      "source": [
        "## 手書き数字画像データの入手"
      ]
    },
    {
      "cell_type": "markdown",
      "metadata": {
        "id": "7Ud7o6oByPWH"
      },
      "source": [
        "0 から 9 までの手書き数字の画像から，その画像に写っている数がいくつかを答えさせる問題を考えます．\n",
        "\n",
        "データは，機械学習の分野で超有名な MNIST と呼ばれるデータセットからとったものです． MNIST のデータは学習用だけで6万枚の画像がありますので，そこからランダムに一部の画像を抽出したものを用意しました．\n",
        "\n",
        "MNIST についてはこちら: http://yann.lecun.com/exdb/mnist/"
      ]
    },
    {
      "cell_type": "code",
      "source": [
        "# 手書き数字データの入手\n",
        "! wget -nc https://www-tlab.math.ryukoku.ac.jp/~takataka/course/ML/minimnist.npz\n",
        "rv = np.load('minimnist.npz')\n",
        "datL = rv['datL'].astype(float)\n",
        "labL = rv['labL']\n",
        "datT = rv['datT'].astype(float)\n",
        "labT = rv['labT']\n",
        "print(datL.shape, labL.shape, datT.shape, labT.shape)"
      ],
      "metadata": {
        "id": "wlUei-UNgDLl"
      },
      "execution_count": null,
      "outputs": []
    },
    {
      "cell_type": "code",
      "source": [
        "# データを画像として表示するための関数\n",
        "#\n",
        "def display(data, nx, ny, nrow=28, ncol=28, gap=4):\n",
        "\n",
        "    assert data.shape[0] == nx*ny\n",
        "    assert data.shape[1] == nrow*ncol\n",
        "\n",
        "    # 並べた画像の幅と高さ\n",
        "    width  = nx * (ncol + gap) + gap\n",
        "    height = ny * (nrow + gap) + gap\n",
        "\n",
        "    # 画像の作成\n",
        "    img = np.zeros((height, width), dtype = int) + 128\n",
        "    for iy in range(ny):\n",
        "        lty = iy*(nrow + gap) + gap\n",
        "        for ix in range(nx):\n",
        "            ltx = ix*(ncol + gap) + gap\n",
        "            img[lty:lty+nrow, ltx:ltx+ncol] = data[iy*nx+ix].reshape((nrow, ncol))\n",
        "\n",
        "    # 画像の出力\n",
        "    plt.axis('off')\n",
        "    plt.imshow(img, cmap = 'gray')\n",
        "    plt.show()"
      ],
      "metadata": {
        "id": "jFBha7FYgaSa"
      },
      "execution_count": null,
      "outputs": []
    },
    {
      "cell_type": "code",
      "source": [
        "# 学習データ中の最初の50個の画像を表示\n",
        "nx, ny = 10, 5\n",
        "display(datL[:50], nx, ny)\n",
        "\n",
        "# それらの正解クラスを表示\n",
        "for iy in range(ny):\n",
        "    print(labL[iy*nx:(iy+1)*nx])"
      ],
      "metadata": {
        "id": "E-kiOHy8gdlF"
      },
      "execution_count": null,
      "outputs": []
    },
    {
      "cell_type": "markdown",
      "metadata": {
        "id": "hD2-Ck8eo63s"
      },
      "source": [
        "## 学習のための関数の定義"
      ]
    },
    {
      "cell_type": "code",
      "metadata": {
        "id": "rWhz5EjiTNsy"
      },
      "source": [
        "### ロジスティック回帰モデル\n",
        "#\n",
        "def  model(X, W, b):\n",
        "    \n",
        "    # X, W, b が正しい shape かチェック\n",
        "    assert X.ndim == 2   # (batchsize, D)\n",
        "    assert W.ndim == 2  # (K, D) \n",
        "    assert b.ndim == 1   # (K,)\n",
        "    K, D = W.shape\n",
        "    assert X.shape[1] == D\n",
        "    assert b.shape[0] == K\n",
        "    \n",
        "    # softmax の手前の値\n",
        "    Y = X @ W.T + b[np.newaxis, :]  # (batchsize, K)\n",
        "    \n",
        "    # softmax （普通の計算法）\n",
        "    #Ztmp = np.exp(Y)  # (batchsize, K)\n",
        "    #Z = Ztmp / np.sum(Ztmp, axis = 1, keepdims = True)  # (batchsize, K)\n",
        "    \n",
        "    # softmax （logsumexp経由，こうする理由は後述）\n",
        "    lse = logsumexp(Y, axis = 1, keepdims = True)  # (batchsize,1)\n",
        "    Z = np.exp(Y - lse)                                                  # (batchsize, K)\n",
        "    \n",
        "    return Y, Z"
      ],
      "execution_count": null,
      "outputs": []
    },
    {
      "cell_type": "code",
      "metadata": {
        "id": "3yYoS50bci_n"
      },
      "source": [
        "### 交差エントロピー （logsumexp version）\n",
        "#\n",
        "def cross_entropy2(Y, lab):\n",
        "    \n",
        "    # shape の整合性をチェック\n",
        "    assert Y.ndim == 2      # (n, K)\n",
        "    assert lab.ndim == 1   # (n,)\n",
        "    n, K = Y.shape\n",
        "    assert Y.shape[0] == n\n",
        "\n",
        "    # 交差エントロピー\n",
        "    Yk = np.choose(lab, Y.T)                 # Y の各行について， lab の値に該当する列の値のみ取り出す\n",
        "    H = - Yk + logsumexp(Y, axis = 1)  # こうやって計算する理由は後述\n",
        "        \n",
        "    return H"
      ],
      "execution_count": null,
      "outputs": []
    },
    {
      "cell_type": "code",
      "metadata": {
        "id": "6zrph5qOfD-_"
      },
      "source": [
        "### パラメータの更新\n",
        "#\n",
        "def update(X, Z, Zt, W, b, eta):\n",
        "    \n",
        "    Zt_Z = Zt - Z\n",
        "    \n",
        "    # update W\n",
        "    #dHdW = ##### ここを書きましょう #####\n",
        "    W += eta * dHdW\n",
        "    \n",
        "    # update b\n",
        "    #dHdb  = ##### ここを書きましょう #####\n",
        "    b += eta * dHdb"
      ],
      "execution_count": null,
      "outputs": []
    },
    {
      "cell_type": "markdown",
      "metadata": {
        "id": "k1V60DWgrrz7"
      },
      "source": [
        "## データの用意"
      ]
    },
    {
      "cell_type": "code",
      "source": [
        "K = 10 # クラス数\n",
        "XL = datL / 255 #  学習データ  [0, 255] => [0,1]\n",
        "XT = datT / 255 #  テストデータ\n",
        "nL, D = XL.shape # 学習データの数, データの次元数 28 x 28 = 784\n",
        "nT, _ = XT.shape # テストデータの数\n",
        "\n",
        "# 教師信号の生成\n",
        "ZtL = np.zeros((nL, K))\n",
        "for k in range(K):\n",
        "    ZtL[labL == k, k] = 1.0"
      ],
      "metadata": {
        "id": "mG-vkxvCiKdi"
      },
      "execution_count": null,
      "outputs": []
    },
    {
      "cell_type": "markdown",
      "metadata": {
        "id": "11KPE_K9swor"
      },
      "source": [
        "## 学習させる"
      ]
    },
    {
      "cell_type": "code",
      "metadata": {
        "id": "tD3468LXgfw2"
      },
      "source": [
        "# パラメータの初期化\n",
        "W = 0.01 * np.random.random((K, D))\n",
        "b = 0.01 * np.random.random(K)\n",
        "\n",
        "# 実験条件の設定\n",
        "nitr = 1000\n",
        "eta = 0.01\n",
        "batchsize = 64\n",
        "\n",
        "# 学習の繰り返し\n",
        "for i in range(1, nitr+1):\n",
        "    \n",
        "    # バッチの作成（ここでは毎回ランダムに選択）\n",
        "    idx = np.random.randint(nL, size = batchsize)\n",
        "    X = XL[idx, :]\n",
        "    Zt = ZtL[idx, :]\n",
        "    \n",
        "    # 出力の計算とパタメータの更新\n",
        "    Y, Z = model(X, W, b)\n",
        "    update(X, Z, Zt, W, b, eta)\n",
        "    \n",
        "    # 適当なタイミングで交差エントロピーと識別率を表示\n",
        "    if i < 10 or i % 50 == 0:\n",
        "        # 学習データの交差エントロピーと正答数\n",
        "        Y, Z = model(XL, W, b)\n",
        "        HL = cross_entropy2(Y, labL)\n",
        "        correctL = np.sum(labL == np.argmax(Z, axis = 1)) \n",
        "        # テストデータの交差エントロピーと正答数\n",
        "        Y, Z = model(XT, W, b)\n",
        "        HT = cross_entropy2(Y, labT)\n",
        "        correctT = np.sum(labT == np.argmax(Z, axis = 1)) \n",
        "\n",
        "        print('{0}   {1:.5f} {2:.3f}     {3:.5f} {4:.3f}'.format(i, np.mean(HL), correctL / nL, np.mean(HT), correctT / nT))"
      ],
      "execution_count": null,
      "outputs": []
    },
    {
      "cell_type": "code",
      "source": [
        "# 学習データ中の最初の50個の画像を表示\n",
        "nx, ny = 10, 5\n",
        "display(datL[:50], nx, ny)\n",
        "\n",
        "# それらの正解クラスを表示\n",
        "for iy in range(ny):\n",
        "    print(labL[iy*nx:(iy+1)*nx])\n",
        "\n",
        "print('--------------------')\n",
        "\n",
        "# モデルの推定したクラス\n",
        "Y, Z = model(XL[:50], W, b)\n",
        "out = np.argmax(Z, axis=1)\n",
        "for iy in range(ny):\n",
        "    print(out[iy*nx:(iy+1)*nx])"
      ],
      "metadata": {
        "id": "uMtALGRslGwH"
      },
      "execution_count": null,
      "outputs": []
    },
    {
      "cell_type": "markdown",
      "metadata": {
        "id": "eqAvnWsM3-uI"
      },
      "source": [
        "# MNIST の最近傍法"
      ]
    },
    {
      "cell_type": "markdown",
      "metadata": {
        "id": "0AbSblTL4ZW5"
      },
      "source": [
        "## かしこいやり方"
      ]
    },
    {
      "cell_type": "markdown",
      "metadata": {
        "id": "hxfIuA3I4NwM"
      },
      "source": [
        "$||\\mathbf{x}||^2$ を求めておく"
      ]
    },
    {
      "cell_type": "code",
      "metadata": {
        "id": "4PJVZXhg32LI"
      },
      "source": [
        "X2 = np.sum(XL**2, axis = 1)"
      ],
      "execution_count": null,
      "outputs": []
    },
    {
      "cell_type": "markdown",
      "metadata": {
        "id": "WEbyI7NS4fIY"
      },
      "source": [
        "テストデータと学習データたちとの内積を使って最近傍法"
      ]
    },
    {
      "cell_type": "code",
      "metadata": {
        "id": "zFUeCBYz39ky"
      },
      "source": [
        "%%time\n",
        "# ↑このセルの実行時間を計測\n",
        "\n",
        "out = np.empty(nT, dtype=int)  # 識別結果を入れる\n",
        "\n",
        "for n in range(nT):\n",
        "    if n % 100 == 0:\n",
        "        print(n)\n",
        "    d2 = X2 - 2 * (XL @ XT[n]) # ここ括弧重要 https://twitter.com/takataka8191/status/1132542307427708928?s=20\n",
        "    out[n] = labL[np.argmin(d2)]\n",
        "\n",
        "\n",
        "cc = np.sum(out == labT)  # 正解数\n",
        "print('{0}/{1} = {2:.2f}%'.format(cc, nT, cc/nT*100))"
      ],
      "execution_count": null,
      "outputs": []
    },
    {
      "cell_type": "markdown",
      "metadata": {
        "id": "em5_87nk9UX5"
      },
      "source": [
        "## ふつーのやり方"
      ]
    },
    {
      "cell_type": "code",
      "metadata": {
        "id": "RR87MAFi9XRA"
      },
      "source": [
        "%%time\n",
        "# ↑このセルの実行時間を計測\n",
        "\n",
        "out = np.empty(nT, dtype=int)  # 識別結果を入れる\n",
        "\n",
        "for n in range(nT):  \n",
        "    if n % 100 == 0:\n",
        "        print(n)\n",
        "    d2 = np.sum(np.square(XL - XT[n, np.newaxis, :]), axis = 1)  # 普通にユークリッド距離を計算\n",
        "    out[n] = labL[np.argmin(d2)]\n",
        "\n",
        "\n",
        "cc = np.sum(out == labT)  # 正解数\n",
        "print('{0}/{1} = {2:.2f}%'.format(cc, nT, cc/nT*100))"
      ],
      "execution_count": null,
      "outputs": []
    },
    {
      "cell_type": "code",
      "metadata": {
        "id": "Qsq35kn7ADwP"
      },
      "source": [
        ""
      ],
      "execution_count": null,
      "outputs": []
    }
  ]
}